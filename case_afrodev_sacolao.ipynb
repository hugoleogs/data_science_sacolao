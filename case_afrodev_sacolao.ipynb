{
 "cells": [
  {
   "cell_type": "markdown",
   "id": "627af665",
   "metadata": {},
   "source": [
    "# CASE AFRODEV – SACOLÃO"
   ]
  },
  {
   "cell_type": "markdown",
   "id": "a1a6c1e7",
   "metadata": {},
   "source": [
    "&ensp;&ensp;&ensp;&ensp; Os engenheiros de dados da rede de Supermercados SACOLÃO coletaram dados de vendas\n",
    "para 1559 produtos distintos em 10 lojas localizadas em diferentes cidades. Cada loja também\n",
    "conta com alguns atributos únicos que estão descritos mais abaixo.\n",
    "\n",
    "&ensp;&ensp;&ensp;&ensp; Enquanto um Analista de Dados e aspirante a Cientista de Dados da SACOLÃO, o seu objetivo é\n",
    "construir um relatório analítico que dê a diretoria da empresa insights relevantes sobre as\n",
    "vendas desses produtos nessas lojas da SACOLÃO. Além disso, foi solicitado um modelo preditivo que preveja com alguma significância as vendas de cada produto em um determinado ponto de venda.\n",
    "\n",
    "&ensp;&ensp;&ensp;&ensp; Usando este relatório analítico e este modelo, a direção da SACOLÃO tentará entender as\n",
    "propriedades dos produtos e pontos de venda que desempenham um papel fundamental no\n",
    "aumento das vendas. Oberve que os dados podem ter valores ausentes, pois algumas lojas podem não ter relatado\n",
    "todos os dados devido a falhas técnicas. Portanto, será necessário tratá-los adequadamente."
   ]
  },
  {
   "cell_type": "markdown",
   "id": "fbcab08f",
   "metadata": {},
   "source": [
    "### Descrição das Variáveis\n",
    "\n",
    "| Coluna  | Descrição |\n",
    "| :- | :- |\n",
    "|Peso       |  Peso dos produtos|\n",
    "|PerGordura | Especifica se o produto tem baixo teor de gordura ou não|\n",
    "|Visibilidade | Porcentagem da área total de exibição de todos os produtos em uma loja alocada para o produto específico|\n",
    "|TipoProduto  | Categoria à qual o produto pertence|\n",
    "|PrecoMax     | Preço máximo de varejo (preço listado) dos produtos|\n",
    "|IDLoja       | ID exclusivo da loja|\n",
    "|AnoLoja      | Ano de criação dos pontos de venda|\n",
    "|TamanhoLoja  | Tamanho da loja em termos de área coberta|\n",
    "|LocalizacaoTipo | Tipo de cidade em que a loja está localizada|\n",
    "|TipoLoja       | Especifica se o ponto de venda é apenas uma mercearia ou algum tipo de supermercado| \n",
    "|Vendas   | Vendas do produto na loja específica – Variável Target|\n"
   ]
  },
  {
   "cell_type": "markdown",
   "id": "db66d831",
   "metadata": {},
   "source": [
    "Devemos retirar dos dados apresentados no arquivo \"Dados_treino.xls\" as informações que ajude o cliente a aumentar as vendas do SACOLÃO."
   ]
  },
  {
   "cell_type": "markdown",
   "id": "bebaae84",
   "metadata": {},
   "source": [
    "Vamos iniciar o nosso projeto carregando as bibliotecas necessárias e carregando as variáveis \"df_treino\" e \"df_teste\""
   ]
  },
  {
   "cell_type": "code",
   "execution_count": 1,
   "id": "9f92330f",
   "metadata": {},
   "outputs": [],
   "source": [
    "import pandas as pd\n",
    "import numpy as np\n",
    "import matplotlib.pyplot as plt\n",
    "import seaborn as sns\n",
    "from IPython.display import Image\n",
    "from IPython.core.display import HTML "
   ]
  },
  {
   "cell_type": "code",
   "execution_count": 2,
   "id": "7bf41c6a",
   "metadata": {},
   "outputs": [],
   "source": [
    "%matplotlib inline"
   ]
  },
  {
   "cell_type": "code",
   "execution_count": 3,
   "id": "ebe790af",
   "metadata": {},
   "outputs": [],
   "source": [
    "sns.set(style='whitegrid')"
   ]
  },
  {
   "cell_type": "code",
   "execution_count": 4,
   "id": "5a9e6348",
   "metadata": {},
   "outputs": [],
   "source": [
    "df_treino = pd.read_excel('../data/Dados_treino.xls', index_col=0)\n",
    "df_teste = pd.read_excel('../data/Dados_teste.xls', index_col=0)"
   ]
  },
  {
   "cell_type": "markdown",
   "id": "5344a56b",
   "metadata": {},
   "source": [
    "Apresentando as dez últimas linhas do conteúdo dos dataframes \"df_treino\" e \"df_teste\":"
   ]
  },
  {
   "cell_type": "code",
   "execution_count": 5,
   "id": "9c530ce0",
   "metadata": {},
   "outputs": [
    {
     "data": {
      "text/html": [
       "<div>\n",
       "<style scoped>\n",
       "    .dataframe tbody tr th:only-of-type {\n",
       "        vertical-align: middle;\n",
       "    }\n",
       "\n",
       "    .dataframe tbody tr th {\n",
       "        vertical-align: top;\n",
       "    }\n",
       "\n",
       "    .dataframe thead th {\n",
       "        text-align: right;\n",
       "    }\n",
       "</style>\n",
       "<table border=\"1\" class=\"dataframe\">\n",
       "  <thead>\n",
       "    <tr style=\"text-align: right;\">\n",
       "      <th></th>\n",
       "      <th>IDProduto</th>\n",
       "      <th>Peso</th>\n",
       "      <th>PerGordura</th>\n",
       "      <th>Visibilidade</th>\n",
       "      <th>TipoProduto</th>\n",
       "      <th>PrecoMax</th>\n",
       "      <th>IDLoja</th>\n",
       "      <th>AnoLoja</th>\n",
       "      <th>TamanhoLoja</th>\n",
       "      <th>LocalizacaoTipo</th>\n",
       "      <th>TipoLoja</th>\n",
       "      <th>Vendas</th>\n",
       "    </tr>\n",
       "  </thead>\n",
       "  <tbody>\n",
       "    <tr>\n",
       "      <th>8513</th>\n",
       "      <td>1552R</td>\n",
       "      <td>180.000</td>\n",
       "      <td>Normal</td>\n",
       "      <td>2.040730</td>\n",
       "      <td>carnes</td>\n",
       "      <td>99.9042</td>\n",
       "      <td>L9</td>\n",
       "      <td>2014</td>\n",
       "      <td>pequena</td>\n",
       "      <td>Sul</td>\n",
       "      <td>Atacado</td>\n",
       "      <td>892.8378</td>\n",
       "    </tr>\n",
       "    <tr>\n",
       "      <th>8514</th>\n",
       "      <td>275O</td>\n",
       "      <td>225.000</td>\n",
       "      <td>Normal</td>\n",
       "      <td>5.448853</td>\n",
       "      <td>produtos enlatados</td>\n",
       "      <td>57.5904</td>\n",
       "      <td>L6</td>\n",
       "      <td>2012</td>\n",
       "      <td>NaN</td>\n",
       "      <td>Sul</td>\n",
       "      <td>Atacado</td>\n",
       "      <td>703.0848</td>\n",
       "    </tr>\n",
       "    <tr>\n",
       "      <th>8515</th>\n",
       "      <td>902R</td>\n",
       "      <td>310.500</td>\n",
       "      <td>Baixo</td>\n",
       "      <td>2.151844</td>\n",
       "      <td>panificacao</td>\n",
       "      <td>157.5288</td>\n",
       "      <td>L2</td>\n",
       "      <td>2019</td>\n",
       "      <td>medio_porte</td>\n",
       "      <td>Norte</td>\n",
       "      <td>Varejo</td>\n",
       "      <td>2356.9320</td>\n",
       "    </tr>\n",
       "    <tr>\n",
       "      <th>8516</th>\n",
       "      <td>1473Q</td>\n",
       "      <td>279.000</td>\n",
       "      <td>Baixo</td>\n",
       "      <td>11.866143</td>\n",
       "      <td>outros</td>\n",
       "      <td>58.7588</td>\n",
       "      <td>L2</td>\n",
       "      <td>2019</td>\n",
       "      <td>medio_porte</td>\n",
       "      <td>Norte</td>\n",
       "      <td>Varejo</td>\n",
       "      <td>1288.3230</td>\n",
       "    </tr>\n",
       "    <tr>\n",
       "      <th>8517</th>\n",
       "      <td>540T</td>\n",
       "      <td>311.250</td>\n",
       "      <td>normal</td>\n",
       "      <td>8.360656</td>\n",
       "      <td>congelada</td>\n",
       "      <td>178.8318</td>\n",
       "      <td>L8</td>\n",
       "      <td>2007</td>\n",
       "      <td>pequena</td>\n",
       "      <td>Sudeste</td>\n",
       "      <td>Atacado</td>\n",
       "      <td>5412.9540</td>\n",
       "    </tr>\n",
       "    <tr>\n",
       "      <th>8518</th>\n",
       "      <td>360V</td>\n",
       "      <td>102.975</td>\n",
       "      <td>Baixo</td>\n",
       "      <td>5.678339</td>\n",
       "      <td>snacks</td>\n",
       "      <td>214.5218</td>\n",
       "      <td>L4</td>\n",
       "      <td>1997</td>\n",
       "      <td>grande</td>\n",
       "      <td>Norte</td>\n",
       "      <td>Atacado</td>\n",
       "      <td>4167.5751</td>\n",
       "    </tr>\n",
       "    <tr>\n",
       "      <th>8519</th>\n",
       "      <td>1538D</td>\n",
       "      <td>125.700</td>\n",
       "      <td>Normal</td>\n",
       "      <td>4.698243</td>\n",
       "      <td>panificacao</td>\n",
       "      <td>108.1570</td>\n",
       "      <td>L6</td>\n",
       "      <td>2012</td>\n",
       "      <td>NaN</td>\n",
       "      <td>Sul</td>\n",
       "      <td>Atacado</td>\n",
       "      <td>823.9275</td>\n",
       "    </tr>\n",
       "    <tr>\n",
       "      <th>8520</th>\n",
       "      <td>355Q</td>\n",
       "      <td>159.000</td>\n",
       "      <td>Baixo</td>\n",
       "      <td>3.518627</td>\n",
       "      <td>higiene pessoal</td>\n",
       "      <td>85.1224</td>\n",
       "      <td>L9</td>\n",
       "      <td>2014</td>\n",
       "      <td>pequena</td>\n",
       "      <td>Sul</td>\n",
       "      <td>Atacado</td>\n",
       "      <td>1789.6704</td>\n",
       "    </tr>\n",
       "    <tr>\n",
       "      <th>8521</th>\n",
       "      <td>909Y</td>\n",
       "      <td>108.150</td>\n",
       "      <td>Normal</td>\n",
       "      <td>14.522065</td>\n",
       "      <td>snacks</td>\n",
       "      <td>103.1332</td>\n",
       "      <td>L2</td>\n",
       "      <td>2019</td>\n",
       "      <td>medio_porte</td>\n",
       "      <td>Norte</td>\n",
       "      <td>Varejo</td>\n",
       "      <td>2768.3964</td>\n",
       "    </tr>\n",
       "    <tr>\n",
       "      <th>8522</th>\n",
       "      <td>463U</td>\n",
       "      <td>222.000</td>\n",
       "      <td>Baixo</td>\n",
       "      <td>4.487828</td>\n",
       "      <td>refrigerante</td>\n",
       "      <td>75.4670</td>\n",
       "      <td>L8</td>\n",
       "      <td>2007</td>\n",
       "      <td>pequena</td>\n",
       "      <td>Sudeste</td>\n",
       "      <td>Atacado</td>\n",
       "      <td>1148.5050</td>\n",
       "    </tr>\n",
       "  </tbody>\n",
       "</table>\n",
       "</div>"
      ],
      "text/plain": [
       "     IDProduto     Peso PerGordura  Visibilidade         TipoProduto  \\\n",
       "8513     1552R  180.000     Normal      2.040730              carnes   \n",
       "8514      275O  225.000     Normal      5.448853  produtos enlatados   \n",
       "8515      902R  310.500      Baixo      2.151844         panificacao   \n",
       "8516     1473Q  279.000      Baixo     11.866143              outros   \n",
       "8517      540T  311.250     normal      8.360656           congelada   \n",
       "8518      360V  102.975      Baixo      5.678339              snacks   \n",
       "8519     1538D  125.700     Normal      4.698243         panificacao   \n",
       "8520      355Q  159.000      Baixo      3.518627     higiene pessoal   \n",
       "8521      909Y  108.150     Normal     14.522065              snacks   \n",
       "8522      463U  222.000      Baixo      4.487828        refrigerante   \n",
       "\n",
       "      PrecoMax IDLoja  AnoLoja  TamanhoLoja LocalizacaoTipo TipoLoja  \\\n",
       "8513   99.9042     L9     2014      pequena             Sul  Atacado   \n",
       "8514   57.5904     L6     2012          NaN             Sul  Atacado   \n",
       "8515  157.5288     L2     2019  medio_porte           Norte   Varejo   \n",
       "8516   58.7588     L2     2019  medio_porte           Norte   Varejo   \n",
       "8517  178.8318     L8     2007      pequena         Sudeste  Atacado   \n",
       "8518  214.5218     L4     1997       grande           Norte  Atacado   \n",
       "8519  108.1570     L6     2012          NaN             Sul  Atacado   \n",
       "8520   85.1224     L9     2014      pequena             Sul  Atacado   \n",
       "8521  103.1332     L2     2019  medio_porte           Norte   Varejo   \n",
       "8522   75.4670     L8     2007      pequena         Sudeste  Atacado   \n",
       "\n",
       "         Vendas  \n",
       "8513   892.8378  \n",
       "8514   703.0848  \n",
       "8515  2356.9320  \n",
       "8516  1288.3230  \n",
       "8517  5412.9540  \n",
       "8518  4167.5751  \n",
       "8519   823.9275  \n",
       "8520  1789.6704  \n",
       "8521  2768.3964  \n",
       "8522  1148.5050  "
      ]
     },
     "execution_count": 5,
     "metadata": {},
     "output_type": "execute_result"
    }
   ],
   "source": [
    "df_treino.tail(10)"
   ]
  },
  {
   "cell_type": "code",
   "execution_count": 6,
   "id": "8236dea2",
   "metadata": {},
   "outputs": [
    {
     "data": {
      "text/html": [
       "<div>\n",
       "<style scoped>\n",
       "    .dataframe tbody tr th:only-of-type {\n",
       "        vertical-align: middle;\n",
       "    }\n",
       "\n",
       "    .dataframe tbody tr th {\n",
       "        vertical-align: top;\n",
       "    }\n",
       "\n",
       "    .dataframe thead th {\n",
       "        text-align: right;\n",
       "    }\n",
       "</style>\n",
       "<table border=\"1\" class=\"dataframe\">\n",
       "  <thead>\n",
       "    <tr style=\"text-align: right;\">\n",
       "      <th></th>\n",
       "      <th>IDProduto</th>\n",
       "      <th>Peso</th>\n",
       "      <th>PerGordura</th>\n",
       "      <th>Visibilidade</th>\n",
       "      <th>TipoProduto</th>\n",
       "      <th>PrecoMax</th>\n",
       "      <th>IDLoja</th>\n",
       "      <th>AnoLoja</th>\n",
       "      <th>TamanhoLoja</th>\n",
       "      <th>LocalizacaoTipo</th>\n",
       "      <th>TipoLoja</th>\n",
       "    </tr>\n",
       "  </thead>\n",
       "  <tbody>\n",
       "    <tr>\n",
       "      <th>5671</th>\n",
       "      <td>275O</td>\n",
       "      <td>225.00</td>\n",
       "      <td>normal</td>\n",
       "      <td>5.446280</td>\n",
       "      <td>produtos enlatados</td>\n",
       "      <td>59.5904</td>\n",
       "      <td>L1</td>\n",
       "      <td>2009</td>\n",
       "      <td>medio_porte</td>\n",
       "      <td>Sudeste</td>\n",
       "      <td>Atacado</td>\n",
       "    </tr>\n",
       "    <tr>\n",
       "      <th>5672</th>\n",
       "      <td>1455Y</td>\n",
       "      <td>102.90</td>\n",
       "      <td>Baixo</td>\n",
       "      <td>3.659413</td>\n",
       "      <td>casa</td>\n",
       "      <td>231.1010</td>\n",
       "      <td>L1</td>\n",
       "      <td>2009</td>\n",
       "      <td>medio_porte</td>\n",
       "      <td>Sudeste</td>\n",
       "      <td>Atacado</td>\n",
       "    </tr>\n",
       "    <tr>\n",
       "      <th>5673</th>\n",
       "      <td>279S</td>\n",
       "      <td>106.05</td>\n",
       "      <td>Baixo</td>\n",
       "      <td>9.405275</td>\n",
       "      <td>snacks</td>\n",
       "      <td>116.0834</td>\n",
       "      <td>L2</td>\n",
       "      <td>2019</td>\n",
       "      <td>medio_porte</td>\n",
       "      <td>Norte</td>\n",
       "      <td>Varejo</td>\n",
       "    </tr>\n",
       "    <tr>\n",
       "      <th>5674</th>\n",
       "      <td>1155K</td>\n",
       "      <td>235.50</td>\n",
       "      <td>Baixo</td>\n",
       "      <td>3.070363</td>\n",
       "      <td>alcoolicos</td>\n",
       "      <td>43.2770</td>\n",
       "      <td>L8</td>\n",
       "      <td>2007</td>\n",
       "      <td>pequena</td>\n",
       "      <td>Sudeste</td>\n",
       "      <td>Atacado</td>\n",
       "    </tr>\n",
       "    <tr>\n",
       "      <th>5675</th>\n",
       "      <td>683G</td>\n",
       "      <td>195.00</td>\n",
       "      <td>Normal</td>\n",
       "      <td>7.041096</td>\n",
       "      <td>snacks</td>\n",
       "      <td>63.4484</td>\n",
       "      <td>L1</td>\n",
       "      <td>2009</td>\n",
       "      <td>medio_porte</td>\n",
       "      <td>Sudeste</td>\n",
       "      <td>Atacado</td>\n",
       "    </tr>\n",
       "    <tr>\n",
       "      <th>5676</th>\n",
       "      <td>941E</td>\n",
       "      <td>157.50</td>\n",
       "      <td>Normal</td>\n",
       "      <td>1.349647</td>\n",
       "      <td>snacks</td>\n",
       "      <td>141.3154</td>\n",
       "      <td>L8</td>\n",
       "      <td>2007</td>\n",
       "      <td>pequena</td>\n",
       "      <td>Sudeste</td>\n",
       "      <td>Atacado</td>\n",
       "    </tr>\n",
       "    <tr>\n",
       "      <th>5677</th>\n",
       "      <td>1011W</td>\n",
       "      <td>114.00</td>\n",
       "      <td>Normal</td>\n",
       "      <td>14.299090</td>\n",
       "      <td>cereais</td>\n",
       "      <td>169.1448</td>\n",
       "      <td>L2</td>\n",
       "      <td>2019</td>\n",
       "      <td>medio_porte</td>\n",
       "      <td>Norte</td>\n",
       "      <td>Varejo</td>\n",
       "    </tr>\n",
       "    <tr>\n",
       "      <th>5678</th>\n",
       "      <td>166J</td>\n",
       "      <td>150.00</td>\n",
       "      <td>Baixo</td>\n",
       "      <td>7.352856</td>\n",
       "      <td>higiene pessoal</td>\n",
       "      <td>118.7440</td>\n",
       "      <td>L6</td>\n",
       "      <td>2012</td>\n",
       "      <td>NaN</td>\n",
       "      <td>Sul</td>\n",
       "      <td>Atacado</td>\n",
       "    </tr>\n",
       "    <tr>\n",
       "      <th>5679</th>\n",
       "      <td>984V</td>\n",
       "      <td>229.50</td>\n",
       "      <td>Normal</td>\n",
       "      <td>0.000000</td>\n",
       "      <td>produtos enlatados</td>\n",
       "      <td>214.6218</td>\n",
       "      <td>L7</td>\n",
       "      <td>2017</td>\n",
       "      <td>NaN</td>\n",
       "      <td>Sul</td>\n",
       "      <td>Atacado</td>\n",
       "    </tr>\n",
       "    <tr>\n",
       "      <th>5680</th>\n",
       "      <td>763I</td>\n",
       "      <td>142.50</td>\n",
       "      <td>Normal</td>\n",
       "      <td>10.472015</td>\n",
       "      <td>produtos enlatados</td>\n",
       "      <td>79.7960</td>\n",
       "      <td>L6</td>\n",
       "      <td>2012</td>\n",
       "      <td>NaN</td>\n",
       "      <td>Sul</td>\n",
       "      <td>Atacado</td>\n",
       "    </tr>\n",
       "  </tbody>\n",
       "</table>\n",
       "</div>"
      ],
      "text/plain": [
       "     IDProduto    Peso PerGordura  Visibilidade         TipoProduto  PrecoMax  \\\n",
       "5671      275O  225.00     normal      5.446280  produtos enlatados   59.5904   \n",
       "5672     1455Y  102.90      Baixo      3.659413                casa  231.1010   \n",
       "5673      279S  106.05      Baixo      9.405275              snacks  116.0834   \n",
       "5674     1155K  235.50      Baixo      3.070363          alcoolicos   43.2770   \n",
       "5675      683G  195.00     Normal      7.041096              snacks   63.4484   \n",
       "5676      941E  157.50     Normal      1.349647              snacks  141.3154   \n",
       "5677     1011W  114.00     Normal     14.299090             cereais  169.1448   \n",
       "5678      166J  150.00      Baixo      7.352856     higiene pessoal  118.7440   \n",
       "5679      984V  229.50     Normal      0.000000  produtos enlatados  214.6218   \n",
       "5680      763I  142.50     Normal     10.472015  produtos enlatados   79.7960   \n",
       "\n",
       "     IDLoja  AnoLoja  TamanhoLoja LocalizacaoTipo TipoLoja  \n",
       "5671     L1     2009  medio_porte         Sudeste  Atacado  \n",
       "5672     L1     2009  medio_porte         Sudeste  Atacado  \n",
       "5673     L2     2019  medio_porte           Norte   Varejo  \n",
       "5674     L8     2007      pequena         Sudeste  Atacado  \n",
       "5675     L1     2009  medio_porte         Sudeste  Atacado  \n",
       "5676     L8     2007      pequena         Sudeste  Atacado  \n",
       "5677     L2     2019  medio_porte           Norte   Varejo  \n",
       "5678     L6     2012          NaN             Sul  Atacado  \n",
       "5679     L7     2017          NaN             Sul  Atacado  \n",
       "5680     L6     2012          NaN             Sul  Atacado  "
      ]
     },
     "execution_count": 6,
     "metadata": {},
     "output_type": "execute_result"
    }
   ],
   "source": [
    "df_teste.tail(10)"
   ]
  },
  {
   "cell_type": "markdown",
   "id": "82670790",
   "metadata": {},
   "source": [
    "Nos dois comandos a seguir, podemos verificar as quantidades de linhas no dataframe e as quantidades de dados faltando."
   ]
  },
  {
   "cell_type": "code",
   "execution_count": 7,
   "id": "2ed15c10",
   "metadata": {},
   "outputs": [
    {
     "name": "stdout",
     "output_type": "stream",
     "text": [
      "<class 'pandas.core.frame.DataFrame'>\n",
      "Int64Index: 8523 entries, 0 to 8522\n",
      "Data columns (total 12 columns):\n",
      " #   Column           Non-Null Count  Dtype  \n",
      "---  ------           --------------  -----  \n",
      " 0   IDProduto        8523 non-null   object \n",
      " 1   Peso             7060 non-null   float64\n",
      " 2   PerGordura       8523 non-null   object \n",
      " 3   Visibilidade     8523 non-null   float64\n",
      " 4   TipoProduto      8523 non-null   object \n",
      " 5   PrecoMax         8523 non-null   float64\n",
      " 6   IDLoja           8523 non-null   object \n",
      " 7   AnoLoja          8523 non-null   int64  \n",
      " 8   TamanhoLoja      6113 non-null   object \n",
      " 9   LocalizacaoTipo  8523 non-null   object \n",
      " 10  TipoLoja         8523 non-null   object \n",
      " 11  Vendas           8523 non-null   float64\n",
      "dtypes: float64(4), int64(1), object(7)\n",
      "memory usage: 865.6+ KB\n"
     ]
    }
   ],
   "source": [
    "df_treino.info()"
   ]
  },
  {
   "cell_type": "code",
   "execution_count": 8,
   "id": "2d27be99",
   "metadata": {},
   "outputs": [
    {
     "name": "stdout",
     "output_type": "stream",
     "text": [
      "<class 'pandas.core.frame.DataFrame'>\n",
      "Int64Index: 5681 entries, 0 to 5680\n",
      "Data columns (total 11 columns):\n",
      " #   Column           Non-Null Count  Dtype  \n",
      "---  ------           --------------  -----  \n",
      " 0   IDProduto        5681 non-null   object \n",
      " 1   Peso             4705 non-null   float64\n",
      " 2   PerGordura       5681 non-null   object \n",
      " 3   Visibilidade     5681 non-null   float64\n",
      " 4   TipoProduto      5681 non-null   object \n",
      " 5   PrecoMax         5681 non-null   float64\n",
      " 6   IDLoja           5681 non-null   object \n",
      " 7   AnoLoja          5681 non-null   int64  \n",
      " 8   TamanhoLoja      4075 non-null   object \n",
      " 9   LocalizacaoTipo  5681 non-null   object \n",
      " 10  TipoLoja         5681 non-null   object \n",
      "dtypes: float64(3), int64(1), object(7)\n",
      "memory usage: 532.6+ KB\n"
     ]
    }
   ],
   "source": [
    "df_teste.info()"
   ]
  },
  {
   "cell_type": "markdown",
   "id": "570629fd",
   "metadata": {},
   "source": [
    "Podemos verificar a quantidade de \"null\" nas colunas \"Peso\" e \"TamanhoLoja\""
   ]
  },
  {
   "cell_type": "code",
   "execution_count": 9,
   "id": "45725f40",
   "metadata": {},
   "outputs": [
    {
     "data": {
      "text/plain": [
       "TamanhoLoja        2410\n",
       "Peso               1463\n",
       "IDProduto             0\n",
       "PerGordura            0\n",
       "Visibilidade          0\n",
       "TipoProduto           0\n",
       "PrecoMax              0\n",
       "IDLoja                0\n",
       "AnoLoja               0\n",
       "LocalizacaoTipo       0\n",
       "TipoLoja              0\n",
       "Vendas                0\n",
       "dtype: int64"
      ]
     },
     "execution_count": 9,
     "metadata": {},
     "output_type": "execute_result"
    }
   ],
   "source": [
    "df_treino.isnull().sum().sort_values(ascending=False)"
   ]
  },
  {
   "cell_type": "code",
   "execution_count": 10,
   "id": "50d15619",
   "metadata": {},
   "outputs": [
    {
     "data": {
      "text/plain": [
       "TamanhoLoja        1606\n",
       "Peso                976\n",
       "IDProduto             0\n",
       "PerGordura            0\n",
       "Visibilidade          0\n",
       "TipoProduto           0\n",
       "PrecoMax              0\n",
       "IDLoja                0\n",
       "AnoLoja               0\n",
       "LocalizacaoTipo       0\n",
       "TipoLoja              0\n",
       "dtype: int64"
      ]
     },
     "execution_count": 10,
     "metadata": {},
     "output_type": "execute_result"
    }
   ],
   "source": [
    "df_teste.isnull().sum().sort_values(ascending=False)"
   ]
  },
  {
   "cell_type": "markdown",
   "id": "1b516c32",
   "metadata": {},
   "source": [
    "Para completar os dados faltantes na coluna \"TamanhoLoja\" devemos encontrar o dado que mais se repete nessa coluna e adicionar nas células que contém \"null\""
   ]
  },
  {
   "cell_type": "code",
   "execution_count": 11,
   "id": "79ab37ff",
   "metadata": {},
   "outputs": [
    {
     "data": {
      "text/plain": [
       "array(['medio_porte', nan, 'grande', 'pequena'], dtype=object)"
      ]
     },
     "execution_count": 11,
     "metadata": {},
     "output_type": "execute_result"
    }
   ],
   "source": [
    "df_treino.TamanhoLoja.unique()"
   ]
  },
  {
   "cell_type": "code",
   "execution_count": 12,
   "id": "e400dbe3",
   "metadata": {},
   "outputs": [
    {
     "data": {
      "text/plain": [
       "array(['medio_porte', nan, 'pequena', 'grande'], dtype=object)"
      ]
     },
     "execution_count": 12,
     "metadata": {},
     "output_type": "execute_result"
    }
   ],
   "source": [
    "df_teste.TamanhoLoja.unique()"
   ]
  },
  {
   "cell_type": "code",
   "execution_count": 13,
   "id": "9656ead1",
   "metadata": {},
   "outputs": [
    {
     "data": {
      "text/plain": [
       "medio_porte    2793\n",
       "pequena        2388\n",
       "grande          932\n",
       "Name: TamanhoLoja, dtype: int64"
      ]
     },
     "execution_count": 13,
     "metadata": {},
     "output_type": "execute_result"
    }
   ],
   "source": [
    "df_treino.TamanhoLoja.value_counts()"
   ]
  },
  {
   "cell_type": "code",
   "execution_count": 14,
   "id": "c911316c",
   "metadata": {},
   "outputs": [
    {
     "data": {
      "text/plain": [
       "medio_porte    1862\n",
       "pequena        1592\n",
       "grande          621\n",
       "Name: TamanhoLoja, dtype: int64"
      ]
     },
     "execution_count": 14,
     "metadata": {},
     "output_type": "execute_result"
    }
   ],
   "source": [
    "df_teste.TamanhoLoja.value_counts()"
   ]
  },
  {
   "cell_type": "code",
   "execution_count": 15,
   "id": "adaac90f",
   "metadata": {},
   "outputs": [],
   "source": [
    "TamanhoLoja_freq = df_treino.TamanhoLoja.value_counts()"
   ]
  },
  {
   "cell_type": "markdown",
   "id": "1856bbdb",
   "metadata": {},
   "source": [
    "Após uma breve análise, constatamos que a classificação \"medio_porte\" foi a de maior frequência. Agora devemos substituir nas células que contém \"null\"."
   ]
  },
  {
   "cell_type": "code",
   "execution_count": 16,
   "id": "315ccf65",
   "metadata": {},
   "outputs": [],
   "source": [
    "TamanhoLoja_freq = df_treino.TamanhoLoja.value_counts().index[0]"
   ]
  },
  {
   "cell_type": "code",
   "execution_count": 17,
   "id": "bc51a1f6",
   "metadata": {},
   "outputs": [],
   "source": [
    "TamanhoLoja_freq_teste = df_teste.TamanhoLoja.value_counts().index[0]"
   ]
  },
  {
   "cell_type": "markdown",
   "id": "30f8917e",
   "metadata": {},
   "source": [
    "Verificamos que a primeira e segunda posição possui uma diferença muito pequena. Logo colocaremos a primeira posição no total dos 2/3 da quantidade de \"null\" o restante colocaremos na segunda posição de frequência. Primeira posição == \"medio_porte\", segunda posição == \"pequena\"."
   ]
  },
  {
   "cell_type": "code",
   "execution_count": 18,
   "id": "dcdb5b44",
   "metadata": {},
   "outputs": [],
   "source": [
    "#medio_porte no arquivo de treino   (2793*2)/3\n",
    "qtd = 0\n",
    "list_tamanhoLoja = []\n",
    "for x in range(df_treino.shape[0]):\n",
    "    if(str(df_treino.TamanhoLoja.loc[x])=='nan' and qtd < 1606):\n",
    "        list_tamanhoLoja.append('medio_porte')\n",
    "        qtd = qtd + 1\n",
    "    else:\n",
    "        list_tamanhoLoja.append(df_treino.TamanhoLoja.loc[x])\n",
    "        \n",
    "df_TamanhoLoja = pd.DataFrame(list_tamanhoLoja, columns = ['TamanhoLoja'])\n",
    "\n",
    "df_treino.TamanhoLoja = df_TamanhoLoja\n",
    "df_treino.TamanhoLoja.fillna('pequena', inplace=True)"
   ]
  },
  {
   "cell_type": "code",
   "execution_count": 19,
   "id": "26a88d29",
   "metadata": {},
   "outputs": [],
   "source": [
    "#medio_porte no arquivo de teste   (1862*2)/3\n",
    "qtd = 0\n",
    "list_tamanhoLoja_2 = []\n",
    "for x in range(df_teste.shape[0]):\n",
    "    if(str(df_teste.TamanhoLoja.loc[x])=='nan' and qtd < 1070):\n",
    "        list_tamanhoLoja_2.append('medio_porte')\n",
    "        qtd = qtd + 1\n",
    "    else:\n",
    "        list_tamanhoLoja_2.append(df_teste.TamanhoLoja.loc[x])\n",
    "        \n",
    "df_TamanhoLoja_2 = pd.DataFrame(list_tamanhoLoja_2, columns = ['TamanhoLoja'])\n",
    "\n",
    "df_teste.TamanhoLoja = df_TamanhoLoja_2\n",
    "df_teste.TamanhoLoja.fillna('pequena', inplace=True)"
   ]
  },
  {
   "cell_type": "code",
   "execution_count": 20,
   "id": "001ae34d",
   "metadata": {},
   "outputs": [
    {
     "name": "stdout",
     "output_type": "stream",
     "text": [
      "<class 'pandas.core.frame.DataFrame'>\n",
      "Int64Index: 8523 entries, 0 to 8522\n",
      "Data columns (total 12 columns):\n",
      " #   Column           Non-Null Count  Dtype  \n",
      "---  ------           --------------  -----  \n",
      " 0   IDProduto        8523 non-null   object \n",
      " 1   Peso             7060 non-null   float64\n",
      " 2   PerGordura       8523 non-null   object \n",
      " 3   Visibilidade     8523 non-null   float64\n",
      " 4   TipoProduto      8523 non-null   object \n",
      " 5   PrecoMax         8523 non-null   float64\n",
      " 6   IDLoja           8523 non-null   object \n",
      " 7   AnoLoja          8523 non-null   int64  \n",
      " 8   TamanhoLoja      8523 non-null   object \n",
      " 9   LocalizacaoTipo  8523 non-null   object \n",
      " 10  TipoLoja         8523 non-null   object \n",
      " 11  Vendas           8523 non-null   float64\n",
      "dtypes: float64(4), int64(1), object(7)\n",
      "memory usage: 1.1+ MB\n"
     ]
    }
   ],
   "source": [
    "df_treino.info()"
   ]
  },
  {
   "cell_type": "code",
   "execution_count": 21,
   "id": "c6028cf1",
   "metadata": {},
   "outputs": [
    {
     "name": "stdout",
     "output_type": "stream",
     "text": [
      "<class 'pandas.core.frame.DataFrame'>\n",
      "Int64Index: 5681 entries, 0 to 5680\n",
      "Data columns (total 11 columns):\n",
      " #   Column           Non-Null Count  Dtype  \n",
      "---  ------           --------------  -----  \n",
      " 0   IDProduto        5681 non-null   object \n",
      " 1   Peso             4705 non-null   float64\n",
      " 2   PerGordura       5681 non-null   object \n",
      " 3   Visibilidade     5681 non-null   float64\n",
      " 4   TipoProduto      5681 non-null   object \n",
      " 5   PrecoMax         5681 non-null   float64\n",
      " 6   IDLoja           5681 non-null   object \n",
      " 7   AnoLoja          5681 non-null   int64  \n",
      " 8   TamanhoLoja      5681 non-null   object \n",
      " 9   LocalizacaoTipo  5681 non-null   object \n",
      " 10  TipoLoja         5681 non-null   object \n",
      "dtypes: float64(3), int64(1), object(7)\n",
      "memory usage: 661.6+ KB\n"
     ]
    }
   ],
   "source": [
    "df_teste.info()"
   ]
  },
  {
   "cell_type": "markdown",
   "id": "a8f61a41",
   "metadata": {},
   "source": [
    "Quando buscamos verificar no dataframe a quantidades de \"null\", esse resultado só é obtido na coluna \"Peso\", pois a coluna \"TamanhoLoja\" já foi preenchida."
   ]
  },
  {
   "cell_type": "markdown",
   "id": "9c26fd21",
   "metadata": {},
   "source": [
    "Agora para preencher a coluna \"Peso\", vamos seguir com a estratégia mais simples, verificar em toda coluna se temos algum dado outlier. Caso os dados não tenha nenhum outlier, podemos realizar uma média e substituir nas lacunas que contém \"null\"."
   ]
  },
  {
   "cell_type": "code",
   "execution_count": 22,
   "id": "95b1f1cc",
   "metadata": {},
   "outputs": [
    {
     "data": {
      "text/plain": [
       "Peso               1463\n",
       "IDProduto             0\n",
       "PerGordura            0\n",
       "Visibilidade          0\n",
       "TipoProduto           0\n",
       "PrecoMax              0\n",
       "IDLoja                0\n",
       "AnoLoja               0\n",
       "TamanhoLoja           0\n",
       "LocalizacaoTipo       0\n",
       "TipoLoja              0\n",
       "Vendas                0\n",
       "dtype: int64"
      ]
     },
     "execution_count": 22,
     "metadata": {},
     "output_type": "execute_result"
    }
   ],
   "source": [
    "df_treino.isnull().sum().sort_values(ascending=False)"
   ]
  },
  {
   "cell_type": "code",
   "execution_count": 23,
   "id": "f9686e90",
   "metadata": {},
   "outputs": [
    {
     "data": {
      "text/plain": [
       "Peso               976\n",
       "IDProduto            0\n",
       "PerGordura           0\n",
       "Visibilidade         0\n",
       "TipoProduto          0\n",
       "PrecoMax             0\n",
       "IDLoja               0\n",
       "AnoLoja              0\n",
       "TamanhoLoja          0\n",
       "LocalizacaoTipo      0\n",
       "TipoLoja             0\n",
       "dtype: int64"
      ]
     },
     "execution_count": 23,
     "metadata": {},
     "output_type": "execute_result"
    }
   ],
   "source": [
    "df_teste.isnull().sum().sort_values(ascending=False)"
   ]
  },
  {
   "cell_type": "code",
   "execution_count": 24,
   "id": "c1cd148b",
   "metadata": {},
   "outputs": [
    {
     "data": {
      "text/plain": [
       "count    7060.000000\n",
       "mean      192.864678\n",
       "std        69.651847\n",
       "min        68.325000\n",
       "25%       131.606250\n",
       "50%       189.000000\n",
       "75%       252.750000\n",
       "max       320.250000\n",
       "Name: Peso, dtype: float64"
      ]
     },
     "execution_count": 24,
     "metadata": {},
     "output_type": "execute_result"
    }
   ],
   "source": [
    "df_treino.Peso.describe()"
   ]
  },
  {
   "cell_type": "code",
   "execution_count": 25,
   "id": "2fe906d2",
   "metadata": {},
   "outputs": [
    {
     "data": {
      "text/plain": [
       "count    4705.000000\n",
       "mean      190.434501\n",
       "std        69.972729\n",
       "min        68.325000\n",
       "25%       129.675000\n",
       "50%       187.500000\n",
       "75%       250.500000\n",
       "max       320.250000\n",
       "Name: Peso, dtype: float64"
      ]
     },
     "execution_count": 25,
     "metadata": {},
     "output_type": "execute_result"
    }
   ],
   "source": [
    "df_teste.Peso.describe()"
   ]
  },
  {
   "cell_type": "markdown",
   "id": "dc1fa371",
   "metadata": {},
   "source": [
    "Com o gráfico do boxplot verificamos que na coluna \"Peso\" não temos nenhum dado outlier. Agora é só pegar a média e substituir."
   ]
  },
  {
   "cell_type": "code",
   "execution_count": 26,
   "id": "ec3d318d",
   "metadata": {},
   "outputs": [
    {
     "data": {
      "text/plain": [
       "Text(0.5, 1.0, 'Item_Weight Boxplot')"
      ]
     },
     "execution_count": 26,
     "metadata": {},
     "output_type": "execute_result"
    },
    {
     "data": {
      "image/png": "[encoded data removed]",
      "text/plain": [
       "<Figure size 432x288 with 1 Axes>"
      ]
     },
     "metadata": {},
     "output_type": "display_data"
    }
   ],
   "source": [
    "sns.boxplot(data=df_treino.Peso,orient=\"h\", color = 'c')\n",
    "plt.title(\"Item_Weight Boxplot\")"
   ]
  },
  {
   "cell_type": "code",
   "execution_count": 27,
   "id": "8128ba0d",
   "metadata": {},
   "outputs": [
    {
     "data": {
      "text/plain": [
       "Text(0.5, 1.0, 'Item_Weight Boxplot')"
      ]
     },
     "execution_count": 27,
     "metadata": {},
     "output_type": "execute_result"
    },
    {
     "data": {
      "image/png": "[encoded data removed]",
      "text/plain": [
       "<Figure size 432x288 with 1 Axes>"
      ]
     },
     "metadata": {},
     "output_type": "display_data"
    }
   ],
   "source": [
    "sns.boxplot(data=df_teste.Peso,orient=\"h\", color = 'c')\n",
    "plt.title(\"Item_Weight Boxplot\")"
   ]
  },
  {
   "cell_type": "markdown",
   "id": "9a6bb7d5",
   "metadata": {},
   "source": [
    "Na coluna \"Peso\", realizamos uma normalização das células utilizando a ideia de média, obtida através de cada tipo de produto. Exemplo, pegamos todos os pesos de um produto específico, tiramos a média e adicionamos nos campos ausentes daquele produto."
   ]
  },
  {
   "cell_type": "code",
   "execution_count": 28,
   "id": "61938fe6",
   "metadata": {},
   "outputs": [],
   "source": [
    "base = df_treino[df_treino['Peso'].isnull()==True]['TipoProduto'].unique()\n",
    "list_tipo_produto = []\n",
    "list_media_tipo_produto = []\n",
    "\n",
    "for x in range(len(base)):\n",
    "    tipo_especifico = base[x]\n",
    "    media = df_treino[df_treino['TipoProduto']==tipo_especifico].Peso.describe()['mean']\n",
    "    list_tipo_produto.append(tipo_especifico)\n",
    "    list_media_tipo_produto.append(media)\n",
    "\n",
    "list_Peso = []\n",
    "\n",
    "for y in range(df_treino.Peso.shape[0]):\n",
    "    if(str(df_treino.Peso.loc[y])=='nan'):\n",
    "        list_Peso.append( list_media_tipo_produto[list_tipo_produto.index(df_treino.TipoProduto.loc[y])] )\n",
    "    else:\n",
    "        list_Peso.append(df_treino.Peso.loc[y])\n",
    "        \n",
    "df_Peso = pd.DataFrame(list_Peso, columns = ['Peso'])\n",
    "\n",
    "df_treino.Peso = df_Peso"
   ]
  },
  {
   "cell_type": "code",
   "execution_count": 29,
   "id": "d7463ff6",
   "metadata": {},
   "outputs": [],
   "source": [
    "base_2 = df_teste[df_teste['Peso'].isnull()==True]['TipoProduto'].unique()\n",
    "list_tipo_produto_2 = []\n",
    "list_media_tipo_produto_2 = []\n",
    "\n",
    "for x in range(len(base_2)):\n",
    "    tipo_especifico_2 = base_2[x]\n",
    "    media_2 = df_teste[df_teste['TipoProduto']==tipo_especifico_2].Peso.describe()['mean']\n",
    "    list_tipo_produto_2.append(tipo_especifico_2)\n",
    "    list_media_tipo_produto_2.append(media_2)\n",
    "\n",
    "list_Peso_2 = []\n",
    "\n",
    "for y in range(df_teste.Peso.shape[0]):\n",
    "    if(str(df_teste.Peso.loc[y])=='nan'):\n",
    "        list_Peso_2.append(list_media_tipo_produto_2[list_tipo_produto_2.index(df_teste.TipoProduto.loc[y])] )\n",
    "    else:\n",
    "        list_Peso_2.append(df_teste.Peso.loc[y])\n",
    "        \n",
    "df_Peso_2 = pd.DataFrame(list_Peso_2, columns = ['Peso'])\n",
    "\n",
    "df_teste.Peso = df_Peso_2"
   ]
  },
  {
   "cell_type": "code",
   "execution_count": 30,
   "id": "a2031d20",
   "metadata": {},
   "outputs": [
    {
     "name": "stdout",
     "output_type": "stream",
     "text": [
      "O produto \"snacks\" na \"tabela de treino\" possui uma media \"194.81819331983806\"\n",
      "O produto \"alcoolicos\" na \"tabela de treino\" possui uma media \"171.0049180327869\"\n",
      "O produto \"panificacao\" na \"tabela de treino\" possui uma media \"184.15662313432836\"\n",
      "O produto \"produtos enlatados\" na \"tabela de treino\" possui uma media \"184.58557513914656\"\n",
      "O produto \"frutas_e_legumes\" na \"tabela de treino\" possui uma media \"198.37154072620214\"\n",
      "O produto \"lacteo\" na \"tabela de treino\" possui uma media \"201.39103356890462\"\n",
      "O produto \"congelada\" na \"tabela de treino\" possui uma media \"193.00591922005572\"\n",
      "O produto \"casa\" na \"tabela de treino\" possui uma media \"200.77104743083\"\n",
      "O produto \"cafe\" na \"tabela de treino\" possui uma media \"191.5230337078652\"\n",
      "O produto \"refrigerante\" na \"tabela de treino\" possui uma media \"177.71189839572193\"\n",
      "O produto \"carnes\" na \"tabela de treino\" possui uma media \"192.26016320474778\"\n",
      "O produto \"higiene pessoal\" na \"tabela de treino\" possui uma media \"197.13470930232558\"\n",
      "O produto \"cereais\" na \"tabela de treino\" possui uma media \"205.3609615384615\"\n",
      "O produto \"outros\" na \"tabela de treino\" possui uma media \"207.7992700729927\"\n",
      "O produto \"peixes\" na \"tabela de treino\" possui uma media \"188.29264705882352\"\n",
      "O produto \"paes e bolos\" na \"tabela de treino\" possui uma media \"170.20404411764707\"\n"
     ]
    }
   ],
   "source": [
    "for t in range(len(list_tipo_produto)):\n",
    "    print(f'O produto \"{list_tipo_produto[t]}\" na \"tabela de treino\" possui uma media \"{list_media_tipo_produto[t]}\"')\n"
   ]
  },
  {
   "cell_type": "code",
   "execution_count": 31,
   "id": "50975dc1",
   "metadata": {},
   "outputs": [
    {
     "name": "stdout",
     "output_type": "stream",
     "text": [
      "O produto \"lacteo\" na \"tabela de teste\" possui uma media \"194.3256\"\n",
      "O produto \"panificacao\" na \"tabela de teste\" possui uma media \"184.08626373626376\"\n",
      "O produto \"higiene pessoal\" na \"tabela de teste\" possui uma media \"198.2539285714286\"\n",
      "O produto \"casa\" na \"tabela de teste\" possui uma media \"199.0575570342205\"\n",
      "O produto \"outros\" na \"tabela de teste\" possui uma media \"210.14587912087913\"\n",
      "O produto \"frutas_e_legumes\" na \"tabela de teste\" possui uma media \"197.19988425925928\"\n",
      "O produto \"carnes\" na \"tabela de teste\" possui uma media \"190.5322222222222\"\n",
      "O produto \"produtos enlatados\" na \"tabela de teste\" possui uma media \"185.9034818941504\"\n",
      "O produto \"snacks\" na \"tabela de teste\" possui uma media \"190.26383458646615\"\n",
      "O produto \"cereais\" na \"tabela de teste\" possui uma media \"204.2737113402062\"\n",
      "O produto \"alcoolicos\" na \"tabela de teste\" possui uma media \"177.66624999999996\"\n",
      "O produto \"congelada\" na \"tabela de teste\" possui uma media \"181.52314004376368\"\n",
      "O produto \"refrigerante\" na \"tabela de teste\" possui uma media \"175.37947598253274\"\n",
      "O produto \"paes e bolos\" na \"tabela de teste\" possui uma media \"163.00197841726617\"\n",
      "O produto \"cafe\" na \"tabela de teste\" possui uma media \"206.3940476190476\"\n",
      "O produto \"peixes\" na \"tabela de teste\" possui uma media \"198.61704545454543\"\n"
     ]
    }
   ],
   "source": [
    "for t in range(len(list_tipo_produto_2)):\n",
    "    print(f'O produto \"{list_tipo_produto_2[t]}\" na \"tabela de teste\" possui uma media \"{list_media_tipo_produto_2[t]}\"')\n"
   ]
  },
  {
   "cell_type": "code",
   "execution_count": 32,
   "id": "cc59eb45",
   "metadata": {},
   "outputs": [
    {
     "name": "stdout",
     "output_type": "stream",
     "text": [
      "<class 'pandas.core.frame.DataFrame'>\n",
      "Int64Index: 8523 entries, 0 to 8522\n",
      "Data columns (total 12 columns):\n",
      " #   Column           Non-Null Count  Dtype  \n",
      "---  ------           --------------  -----  \n",
      " 0   IDProduto        8523 non-null   object \n",
      " 1   Peso             8523 non-null   float64\n",
      " 2   PerGordura       8523 non-null   object \n",
      " 3   Visibilidade     8523 non-null   float64\n",
      " 4   TipoProduto      8523 non-null   object \n",
      " 5   PrecoMax         8523 non-null   float64\n",
      " 6   IDLoja           8523 non-null   object \n",
      " 7   AnoLoja          8523 non-null   int64  \n",
      " 8   TamanhoLoja      8523 non-null   object \n",
      " 9   LocalizacaoTipo  8523 non-null   object \n",
      " 10  TipoLoja         8523 non-null   object \n",
      " 11  Vendas           8523 non-null   float64\n",
      "dtypes: float64(4), int64(1), object(7)\n",
      "memory usage: 1.1+ MB\n"
     ]
    }
   ],
   "source": [
    "df_treino.info()"
   ]
  },
  {
   "cell_type": "code",
   "execution_count": 33,
   "id": "4c43480a",
   "metadata": {},
   "outputs": [
    {
     "name": "stdout",
     "output_type": "stream",
     "text": [
      "<class 'pandas.core.frame.DataFrame'>\n",
      "Int64Index: 5681 entries, 0 to 5680\n",
      "Data columns (total 11 columns):\n",
      " #   Column           Non-Null Count  Dtype  \n",
      "---  ------           --------------  -----  \n",
      " 0   IDProduto        5681 non-null   object \n",
      " 1   Peso             5681 non-null   float64\n",
      " 2   PerGordura       5681 non-null   object \n",
      " 3   Visibilidade     5681 non-null   float64\n",
      " 4   TipoProduto      5681 non-null   object \n",
      " 5   PrecoMax         5681 non-null   float64\n",
      " 6   IDLoja           5681 non-null   object \n",
      " 7   AnoLoja          5681 non-null   int64  \n",
      " 8   TamanhoLoja      5681 non-null   object \n",
      " 9   LocalizacaoTipo  5681 non-null   object \n",
      " 10  TipoLoja         5681 non-null   object \n",
      "dtypes: float64(3), int64(1), object(7)\n",
      "memory usage: 661.6+ KB\n"
     ]
    }
   ],
   "source": [
    "df_teste.info()"
   ]
  },
  {
   "cell_type": "code",
   "execution_count": 34,
   "id": "6965b591",
   "metadata": {},
   "outputs": [
    {
     "data": {
      "text/plain": [
       "IDProduto          0\n",
       "Peso               0\n",
       "PerGordura         0\n",
       "Visibilidade       0\n",
       "TipoProduto        0\n",
       "PrecoMax           0\n",
       "IDLoja             0\n",
       "AnoLoja            0\n",
       "TamanhoLoja        0\n",
       "LocalizacaoTipo    0\n",
       "TipoLoja           0\n",
       "Vendas             0\n",
       "dtype: int64"
      ]
     },
     "execution_count": 34,
     "metadata": {},
     "output_type": "execute_result"
    }
   ],
   "source": [
    "df_treino.isnull().sum().sort_values(ascending=False)"
   ]
  },
  {
   "cell_type": "code",
   "execution_count": 35,
   "id": "4d1f7450",
   "metadata": {},
   "outputs": [
    {
     "data": {
      "text/plain": [
       "IDProduto          0\n",
       "Peso               0\n",
       "PerGordura         0\n",
       "Visibilidade       0\n",
       "TipoProduto        0\n",
       "PrecoMax           0\n",
       "IDLoja             0\n",
       "AnoLoja            0\n",
       "TamanhoLoja        0\n",
       "LocalizacaoTipo    0\n",
       "TipoLoja           0\n",
       "dtype: int64"
      ]
     },
     "execution_count": 35,
     "metadata": {},
     "output_type": "execute_result"
    }
   ],
   "source": [
    "df_teste.isnull().sum().sort_values(ascending=False)"
   ]
  },
  {
   "cell_type": "markdown",
   "id": "8789c89f",
   "metadata": {},
   "source": [
    "Podemos constatar que as colunas \"Peso\" e \"TamanhoLoja\" já estão normalizadas. Por último verificamos que a coluna \"PerGordura\" não está normalizada."
   ]
  },
  {
   "cell_type": "code",
   "execution_count": 36,
   "id": "54cf620a",
   "metadata": {},
   "outputs": [
    {
     "data": {
      "text/html": [
       "<div>\n",
       "<style scoped>\n",
       "    .dataframe tbody tr th:only-of-type {\n",
       "        vertical-align: middle;\n",
       "    }\n",
       "\n",
       "    .dataframe tbody tr th {\n",
       "        vertical-align: top;\n",
       "    }\n",
       "\n",
       "    .dataframe thead th {\n",
       "        text-align: right;\n",
       "    }\n",
       "</style>\n",
       "<table border=\"1\" class=\"dataframe\">\n",
       "  <thead>\n",
       "    <tr style=\"text-align: right;\">\n",
       "      <th></th>\n",
       "      <th>IDProduto</th>\n",
       "      <th>Peso</th>\n",
       "      <th>PerGordura</th>\n",
       "      <th>Visibilidade</th>\n",
       "      <th>TipoProduto</th>\n",
       "      <th>PrecoMax</th>\n",
       "      <th>IDLoja</th>\n",
       "      <th>AnoLoja</th>\n",
       "      <th>TamanhoLoja</th>\n",
       "      <th>LocalizacaoTipo</th>\n",
       "      <th>TipoLoja</th>\n",
       "      <th>Vendas</th>\n",
       "    </tr>\n",
       "  </thead>\n",
       "  <tbody>\n",
       "    <tr>\n",
       "      <th>0</th>\n",
       "      <td>1A</td>\n",
       "      <td>139.500000</td>\n",
       "      <td>Baixo</td>\n",
       "      <td>1.604730</td>\n",
       "      <td>lacteo</td>\n",
       "      <td>249.8092</td>\n",
       "      <td>L1</td>\n",
       "      <td>2009</td>\n",
       "      <td>medio_porte</td>\n",
       "      <td>Sudeste</td>\n",
       "      <td>Atacado</td>\n",
       "      <td>5602.7070</td>\n",
       "    </tr>\n",
       "    <tr>\n",
       "      <th>1</th>\n",
       "      <td>2B</td>\n",
       "      <td>88.800000</td>\n",
       "      <td>Normal</td>\n",
       "      <td>1.927822</td>\n",
       "      <td>refrigerante</td>\n",
       "      <td>48.2692</td>\n",
       "      <td>L2</td>\n",
       "      <td>2019</td>\n",
       "      <td>medio_porte</td>\n",
       "      <td>Norte</td>\n",
       "      <td>Varejo</td>\n",
       "      <td>665.1342</td>\n",
       "    </tr>\n",
       "    <tr>\n",
       "      <th>2</th>\n",
       "      <td>3C</td>\n",
       "      <td>262.500000</td>\n",
       "      <td>Baixo</td>\n",
       "      <td>1.676007</td>\n",
       "      <td>carnes</td>\n",
       "      <td>141.6180</td>\n",
       "      <td>L1</td>\n",
       "      <td>2009</td>\n",
       "      <td>medio_porte</td>\n",
       "      <td>Sudeste</td>\n",
       "      <td>Atacado</td>\n",
       "      <td>3145.9050</td>\n",
       "    </tr>\n",
       "    <tr>\n",
       "      <th>3</th>\n",
       "      <td>4D</td>\n",
       "      <td>288.000000</td>\n",
       "      <td>Normal</td>\n",
       "      <td>0.000000</td>\n",
       "      <td>frutas_e_legumes</td>\n",
       "      <td>182.0950</td>\n",
       "      <td>L3</td>\n",
       "      <td>2008</td>\n",
       "      <td>medio_porte</td>\n",
       "      <td>Norte</td>\n",
       "      <td>MercadoBairro</td>\n",
       "      <td>1098.5700</td>\n",
       "    </tr>\n",
       "    <tr>\n",
       "      <th>4</th>\n",
       "      <td>5E</td>\n",
       "      <td>133.950000</td>\n",
       "      <td>Baixo</td>\n",
       "      <td>0.000000</td>\n",
       "      <td>casa</td>\n",
       "      <td>53.8614</td>\n",
       "      <td>L4</td>\n",
       "      <td>1997</td>\n",
       "      <td>grande</td>\n",
       "      <td>Norte</td>\n",
       "      <td>Atacado</td>\n",
       "      <td>1492.0578</td>\n",
       "    </tr>\n",
       "    <tr>\n",
       "      <th>5</th>\n",
       "      <td>6F</td>\n",
       "      <td>155.925000</td>\n",
       "      <td>Normal</td>\n",
       "      <td>0.000000</td>\n",
       "      <td>panificacao</td>\n",
       "      <td>51.4008</td>\n",
       "      <td>L2</td>\n",
       "      <td>2019</td>\n",
       "      <td>medio_porte</td>\n",
       "      <td>Norte</td>\n",
       "      <td>Varejo</td>\n",
       "      <td>834.9132</td>\n",
       "    </tr>\n",
       "    <tr>\n",
       "      <th>6</th>\n",
       "      <td>7G</td>\n",
       "      <td>204.750000</td>\n",
       "      <td>Normal</td>\n",
       "      <td>1.274109</td>\n",
       "      <td>snacks</td>\n",
       "      <td>57.6588</td>\n",
       "      <td>L4</td>\n",
       "      <td>1997</td>\n",
       "      <td>grande</td>\n",
       "      <td>Norte</td>\n",
       "      <td>Atacado</td>\n",
       "      <td>515.3292</td>\n",
       "    </tr>\n",
       "    <tr>\n",
       "      <th>7</th>\n",
       "      <td>8H</td>\n",
       "      <td>194.818193</td>\n",
       "      <td>Baixo</td>\n",
       "      <td>12.746986</td>\n",
       "      <td>snacks</td>\n",
       "      <td>107.7622</td>\n",
       "      <td>L5</td>\n",
       "      <td>1995</td>\n",
       "      <td>medio_porte</td>\n",
       "      <td>Norte</td>\n",
       "      <td>Premium</td>\n",
       "      <td>6034.1454</td>\n",
       "    </tr>\n",
       "    <tr>\n",
       "      <th>8</th>\n",
       "      <td>9I</td>\n",
       "      <td>243.000000</td>\n",
       "      <td>Normal</td>\n",
       "      <td>1.668711</td>\n",
       "      <td>congelada</td>\n",
       "      <td>96.9726</td>\n",
       "      <td>L6</td>\n",
       "      <td>2012</td>\n",
       "      <td>medio_porte</td>\n",
       "      <td>Sul</td>\n",
       "      <td>Atacado</td>\n",
       "      <td>1614.8979</td>\n",
       "    </tr>\n",
       "    <tr>\n",
       "      <th>9</th>\n",
       "      <td>10J</td>\n",
       "      <td>288.000000</td>\n",
       "      <td>Normal</td>\n",
       "      <td>9.444959</td>\n",
       "      <td>congelada</td>\n",
       "      <td>187.8214</td>\n",
       "      <td>L7</td>\n",
       "      <td>2017</td>\n",
       "      <td>medio_porte</td>\n",
       "      <td>Sul</td>\n",
       "      <td>Atacado</td>\n",
       "      <td>7065.8025</td>\n",
       "    </tr>\n",
       "    <tr>\n",
       "      <th>10</th>\n",
       "      <td>11K</td>\n",
       "      <td>177.000000</td>\n",
       "      <td>Baixo</td>\n",
       "      <td>0.000000</td>\n",
       "      <td>frutas_e_legumes</td>\n",
       "      <td>45.5402</td>\n",
       "      <td>L1</td>\n",
       "      <td>2009</td>\n",
       "      <td>medio_porte</td>\n",
       "      <td>Sudeste</td>\n",
       "      <td>Atacado</td>\n",
       "      <td>2274.0399</td>\n",
       "    </tr>\n",
       "    <tr>\n",
       "      <th>11</th>\n",
       "      <td>12L</td>\n",
       "      <td>277.500000</td>\n",
       "      <td>Normal</td>\n",
       "      <td>4.546377</td>\n",
       "      <td>lacteo</td>\n",
       "      <td>144.1102</td>\n",
       "      <td>L8</td>\n",
       "      <td>2007</td>\n",
       "      <td>pequena</td>\n",
       "      <td>Sudeste</td>\n",
       "      <td>Atacado</td>\n",
       "      <td>3280.7295</td>\n",
       "    </tr>\n",
       "    <tr>\n",
       "      <th>12</th>\n",
       "      <td>13M</td>\n",
       "      <td>226.500000</td>\n",
       "      <td>Normal</td>\n",
       "      <td>10.001350</td>\n",
       "      <td>frutas_e_legumes</td>\n",
       "      <td>145.4786</td>\n",
       "      <td>L1</td>\n",
       "      <td>2009</td>\n",
       "      <td>medio_porte</td>\n",
       "      <td>Sudeste</td>\n",
       "      <td>Atacado</td>\n",
       "      <td>2383.8969</td>\n",
       "    </tr>\n",
       "    <tr>\n",
       "      <th>13</th>\n",
       "      <td>14N</td>\n",
       "      <td>264.000000</td>\n",
       "      <td>Normal</td>\n",
       "      <td>4.725733</td>\n",
       "      <td>snacks</td>\n",
       "      <td>119.6782</td>\n",
       "      <td>L8</td>\n",
       "      <td>2007</td>\n",
       "      <td>pequena</td>\n",
       "      <td>Sudeste</td>\n",
       "      <td>Atacado</td>\n",
       "      <td>3217.8114</td>\n",
       "    </tr>\n",
       "    <tr>\n",
       "      <th>14</th>\n",
       "      <td>15O</td>\n",
       "      <td>245.250000</td>\n",
       "      <td>Baixo</td>\n",
       "      <td>6.802430</td>\n",
       "      <td>frutas_e_legumes</td>\n",
       "      <td>196.4426</td>\n",
       "      <td>L4</td>\n",
       "      <td>1997</td>\n",
       "      <td>grande</td>\n",
       "      <td>Norte</td>\n",
       "      <td>Atacado</td>\n",
       "      <td>2966.1390</td>\n",
       "    </tr>\n",
       "  </tbody>\n",
       "</table>\n",
       "</div>"
      ],
      "text/plain": [
       "   IDProduto        Peso PerGordura  Visibilidade       TipoProduto  PrecoMax  \\\n",
       "0         1A  139.500000      Baixo      1.604730            lacteo  249.8092   \n",
       "1         2B   88.800000     Normal      1.927822      refrigerante   48.2692   \n",
       "2         3C  262.500000      Baixo      1.676007            carnes  141.6180   \n",
       "3         4D  288.000000     Normal      0.000000  frutas_e_legumes  182.0950   \n",
       "4         5E  133.950000      Baixo      0.000000              casa   53.8614   \n",
       "5         6F  155.925000     Normal      0.000000       panificacao   51.4008   \n",
       "6         7G  204.750000     Normal      1.274109            snacks   57.6588   \n",
       "7         8H  194.818193      Baixo     12.746986            snacks  107.7622   \n",
       "8         9I  243.000000     Normal      1.668711         congelada   96.9726   \n",
       "9        10J  288.000000     Normal      9.444959         congelada  187.8214   \n",
       "10       11K  177.000000      Baixo      0.000000  frutas_e_legumes   45.5402   \n",
       "11       12L  277.500000     Normal      4.546377            lacteo  144.1102   \n",
       "12       13M  226.500000     Normal     10.001350  frutas_e_legumes  145.4786   \n",
       "13       14N  264.000000     Normal      4.725733            snacks  119.6782   \n",
       "14       15O  245.250000      Baixo      6.802430  frutas_e_legumes  196.4426   \n",
       "\n",
       "   IDLoja  AnoLoja  TamanhoLoja LocalizacaoTipo       TipoLoja     Vendas  \n",
       "0      L1     2009  medio_porte         Sudeste        Atacado  5602.7070  \n",
       "1      L2     2019  medio_porte           Norte         Varejo   665.1342  \n",
       "2      L1     2009  medio_porte         Sudeste        Atacado  3145.9050  \n",
       "3      L3     2008  medio_porte           Norte  MercadoBairro  1098.5700  \n",
       "4      L4     1997       grande           Norte        Atacado  1492.0578  \n",
       "5      L2     2019  medio_porte           Norte         Varejo   834.9132  \n",
       "6      L4     1997       grande           Norte        Atacado   515.3292  \n",
       "7      L5     1995  medio_porte           Norte        Premium  6034.1454  \n",
       "8      L6     2012  medio_porte             Sul        Atacado  1614.8979  \n",
       "9      L7     2017  medio_porte             Sul        Atacado  7065.8025  \n",
       "10     L1     2009  medio_porte         Sudeste        Atacado  2274.0399  \n",
       "11     L8     2007      pequena         Sudeste        Atacado  3280.7295  \n",
       "12     L1     2009  medio_porte         Sudeste        Atacado  2383.8969  \n",
       "13     L8     2007      pequena         Sudeste        Atacado  3217.8114  \n",
       "14     L4     1997       grande           Norte        Atacado  2966.1390  "
      ]
     },
     "execution_count": 36,
     "metadata": {},
     "output_type": "execute_result"
    }
   ],
   "source": [
    "df_treino.head(15)"
   ]
  },
  {
   "cell_type": "code",
   "execution_count": 37,
   "id": "569a37f8",
   "metadata": {},
   "outputs": [
    {
     "data": {
      "text/html": [
       "<div>\n",
       "<style scoped>\n",
       "    .dataframe tbody tr th:only-of-type {\n",
       "        vertical-align: middle;\n",
       "    }\n",
       "\n",
       "    .dataframe tbody tr th {\n",
       "        vertical-align: top;\n",
       "    }\n",
       "\n",
       "    .dataframe thead th {\n",
       "        text-align: right;\n",
       "    }\n",
       "</style>\n",
       "<table border=\"1\" class=\"dataframe\">\n",
       "  <thead>\n",
       "    <tr style=\"text-align: right;\">\n",
       "      <th></th>\n",
       "      <th>IDProduto</th>\n",
       "      <th>Peso</th>\n",
       "      <th>PerGordura</th>\n",
       "      <th>Visibilidade</th>\n",
       "      <th>TipoProduto</th>\n",
       "      <th>PrecoMax</th>\n",
       "      <th>IDLoja</th>\n",
       "      <th>AnoLoja</th>\n",
       "      <th>TamanhoLoja</th>\n",
       "      <th>LocalizacaoTipo</th>\n",
       "      <th>TipoLoja</th>\n",
       "    </tr>\n",
       "  </thead>\n",
       "  <tbody>\n",
       "    <tr>\n",
       "      <th>0</th>\n",
       "      <td>1362J</td>\n",
       "      <td>311.250000</td>\n",
       "      <td>Baixo</td>\n",
       "      <td>0.756484</td>\n",
       "      <td>snacks</td>\n",
       "      <td>107.8622</td>\n",
       "      <td>L1</td>\n",
       "      <td>2009</td>\n",
       "      <td>medio_porte</td>\n",
       "      <td>Sudeste</td>\n",
       "      <td>Atacado</td>\n",
       "    </tr>\n",
       "    <tr>\n",
       "      <th>1</th>\n",
       "      <td>1537C</td>\n",
       "      <td>124.500000</td>\n",
       "      <td>normal</td>\n",
       "      <td>3.842768</td>\n",
       "      <td>lacteo</td>\n",
       "      <td>87.3198</td>\n",
       "      <td>L7</td>\n",
       "      <td>2017</td>\n",
       "      <td>medio_porte</td>\n",
       "      <td>Sul</td>\n",
       "      <td>Atacado</td>\n",
       "    </tr>\n",
       "    <tr>\n",
       "      <th>2</th>\n",
       "      <td>181Y</td>\n",
       "      <td>219.000000</td>\n",
       "      <td>Baixo</td>\n",
       "      <td>9.957491</td>\n",
       "      <td>outros</td>\n",
       "      <td>241.7538</td>\n",
       "      <td>L3</td>\n",
       "      <td>2008</td>\n",
       "      <td>medio_porte</td>\n",
       "      <td>Norte</td>\n",
       "      <td>MercadoBairro</td>\n",
       "    </tr>\n",
       "    <tr>\n",
       "      <th>3</th>\n",
       "      <td>1436F</td>\n",
       "      <td>109.725000</td>\n",
       "      <td>Baixo</td>\n",
       "      <td>1.538839</td>\n",
       "      <td>snacks</td>\n",
       "      <td>155.0340</td>\n",
       "      <td>L7</td>\n",
       "      <td>2017</td>\n",
       "      <td>medio_porte</td>\n",
       "      <td>Sul</td>\n",
       "      <td>Atacado</td>\n",
       "    </tr>\n",
       "    <tr>\n",
       "      <th>4</th>\n",
       "      <td>236B</td>\n",
       "      <td>194.325600</td>\n",
       "      <td>Normal</td>\n",
       "      <td>11.859931</td>\n",
       "      <td>lacteo</td>\n",
       "      <td>234.2300</td>\n",
       "      <td>L5</td>\n",
       "      <td>1995</td>\n",
       "      <td>medio_porte</td>\n",
       "      <td>Norte</td>\n",
       "      <td>Premium</td>\n",
       "    </tr>\n",
       "    <tr>\n",
       "      <th>5</th>\n",
       "      <td>1465I</td>\n",
       "      <td>147.000000</td>\n",
       "      <td>Normal</td>\n",
       "      <td>6.381721</td>\n",
       "      <td>frutas_e_legumes</td>\n",
       "      <td>117.1492</td>\n",
       "      <td>L8</td>\n",
       "      <td>2007</td>\n",
       "      <td>pequena</td>\n",
       "      <td>Sudeste</td>\n",
       "      <td>Atacado</td>\n",
       "    </tr>\n",
       "    <tr>\n",
       "      <th>6</th>\n",
       "      <td>443A</td>\n",
       "      <td>290.250000</td>\n",
       "      <td>Normal</td>\n",
       "      <td>8.260154</td>\n",
       "      <td>panificacao</td>\n",
       "      <td>50.1034</td>\n",
       "      <td>L2</td>\n",
       "      <td>2019</td>\n",
       "      <td>medio_porte</td>\n",
       "      <td>Norte</td>\n",
       "      <td>Varejo</td>\n",
       "    </tr>\n",
       "    <tr>\n",
       "      <th>7</th>\n",
       "      <td>1536B</td>\n",
       "      <td>184.086264</td>\n",
       "      <td>Baixo</td>\n",
       "      <td>1.578250</td>\n",
       "      <td>panificacao</td>\n",
       "      <td>81.0592</td>\n",
       "      <td>L5</td>\n",
       "      <td>1995</td>\n",
       "      <td>medio_porte</td>\n",
       "      <td>Norte</td>\n",
       "      <td>Premium</td>\n",
       "    </tr>\n",
       "    <tr>\n",
       "      <th>8</th>\n",
       "      <td>86H</td>\n",
       "      <td>94.575000</td>\n",
       "      <td>Normal</td>\n",
       "      <td>12.336545</td>\n",
       "      <td>snacks</td>\n",
       "      <td>95.7436</td>\n",
       "      <td>L6</td>\n",
       "      <td>2012</td>\n",
       "      <td>medio_porte</td>\n",
       "      <td>Sul</td>\n",
       "      <td>Atacado</td>\n",
       "    </tr>\n",
       "    <tr>\n",
       "      <th>9</th>\n",
       "      <td>411U</td>\n",
       "      <td>89.775000</td>\n",
       "      <td>Baixo</td>\n",
       "      <td>0.569843</td>\n",
       "      <td>panificacao</td>\n",
       "      <td>186.8924</td>\n",
       "      <td>L7</td>\n",
       "      <td>2017</td>\n",
       "      <td>medio_porte</td>\n",
       "      <td>Sul</td>\n",
       "      <td>Atacado</td>\n",
       "    </tr>\n",
       "    <tr>\n",
       "      <th>10</th>\n",
       "      <td>420D</td>\n",
       "      <td>249.000000</td>\n",
       "      <td>Baixo</td>\n",
       "      <td>10.356908</td>\n",
       "      <td>frutas_e_legumes</td>\n",
       "      <td>118.3466</td>\n",
       "      <td>L7</td>\n",
       "      <td>2017</td>\n",
       "      <td>medio_porte</td>\n",
       "      <td>Sul</td>\n",
       "      <td>Atacado</td>\n",
       "    </tr>\n",
       "    <tr>\n",
       "      <th>11</th>\n",
       "      <td>245K</td>\n",
       "      <td>98.850000</td>\n",
       "      <td>Baixo</td>\n",
       "      <td>10.581147</td>\n",
       "      <td>frutas_e_legumes</td>\n",
       "      <td>85.3908</td>\n",
       "      <td>L6</td>\n",
       "      <td>2012</td>\n",
       "      <td>medio_porte</td>\n",
       "      <td>Sul</td>\n",
       "      <td>Atacado</td>\n",
       "    </tr>\n",
       "    <tr>\n",
       "      <th>12</th>\n",
       "      <td>1409E</td>\n",
       "      <td>198.253929</td>\n",
       "      <td>Baixo</td>\n",
       "      <td>17.107921</td>\n",
       "      <td>higiene pessoal</td>\n",
       "      <td>240.4196</td>\n",
       "      <td>L10</td>\n",
       "      <td>1995</td>\n",
       "      <td>pequena</td>\n",
       "      <td>Sudeste</td>\n",
       "      <td>MercadoBairro</td>\n",
       "    </tr>\n",
       "    <tr>\n",
       "      <th>13</th>\n",
       "      <td>551E</td>\n",
       "      <td>71.775000</td>\n",
       "      <td>Baixo</td>\n",
       "      <td>9.273761</td>\n",
       "      <td>paes e bolos</td>\n",
       "      <td>122.3098</td>\n",
       "      <td>L1</td>\n",
       "      <td>2009</td>\n",
       "      <td>medio_porte</td>\n",
       "      <td>Sudeste</td>\n",
       "      <td>Atacado</td>\n",
       "    </tr>\n",
       "    <tr>\n",
       "      <th>14</th>\n",
       "      <td>1496N</td>\n",
       "      <td>251.250000</td>\n",
       "      <td>baixo</td>\n",
       "      <td>2.120646</td>\n",
       "      <td>alcoolicos</td>\n",
       "      <td>52.0298</td>\n",
       "      <td>L4</td>\n",
       "      <td>1997</td>\n",
       "      <td>grande</td>\n",
       "      <td>Norte</td>\n",
       "      <td>Atacado</td>\n",
       "    </tr>\n",
       "  </tbody>\n",
       "</table>\n",
       "</div>"
      ],
      "text/plain": [
       "   IDProduto        Peso PerGordura  Visibilidade       TipoProduto  PrecoMax  \\\n",
       "0      1362J  311.250000      Baixo      0.756484            snacks  107.8622   \n",
       "1      1537C  124.500000     normal      3.842768            lacteo   87.3198   \n",
       "2       181Y  219.000000      Baixo      9.957491            outros  241.7538   \n",
       "3      1436F  109.725000      Baixo      1.538839            snacks  155.0340   \n",
       "4       236B  194.325600     Normal     11.859931            lacteo  234.2300   \n",
       "5      1465I  147.000000     Normal      6.381721  frutas_e_legumes  117.1492   \n",
       "6       443A  290.250000     Normal      8.260154       panificacao   50.1034   \n",
       "7      1536B  184.086264      Baixo      1.578250       panificacao   81.0592   \n",
       "8        86H   94.575000     Normal     12.336545            snacks   95.7436   \n",
       "9       411U   89.775000      Baixo      0.569843       panificacao  186.8924   \n",
       "10      420D  249.000000      Baixo     10.356908  frutas_e_legumes  118.3466   \n",
       "11      245K   98.850000      Baixo     10.581147  frutas_e_legumes   85.3908   \n",
       "12     1409E  198.253929      Baixo     17.107921   higiene pessoal  240.4196   \n",
       "13      551E   71.775000      Baixo      9.273761      paes e bolos  122.3098   \n",
       "14     1496N  251.250000      baixo      2.120646        alcoolicos   52.0298   \n",
       "\n",
       "   IDLoja  AnoLoja  TamanhoLoja LocalizacaoTipo       TipoLoja  \n",
       "0      L1     2009  medio_porte         Sudeste        Atacado  \n",
       "1      L7     2017  medio_porte             Sul        Atacado  \n",
       "2      L3     2008  medio_porte           Norte  MercadoBairro  \n",
       "3      L7     2017  medio_porte             Sul        Atacado  \n",
       "4      L5     1995  medio_porte           Norte        Premium  \n",
       "5      L8     2007      pequena         Sudeste        Atacado  \n",
       "6      L2     2019  medio_porte           Norte         Varejo  \n",
       "7      L5     1995  medio_porte           Norte        Premium  \n",
       "8      L6     2012  medio_porte             Sul        Atacado  \n",
       "9      L7     2017  medio_porte             Sul        Atacado  \n",
       "10     L7     2017  medio_porte             Sul        Atacado  \n",
       "11     L6     2012  medio_porte             Sul        Atacado  \n",
       "12    L10     1995      pequena         Sudeste  MercadoBairro  \n",
       "13     L1     2009  medio_porte         Sudeste        Atacado  \n",
       "14     L4     1997       grande           Norte        Atacado  "
      ]
     },
     "execution_count": 37,
     "metadata": {},
     "output_type": "execute_result"
    }
   ],
   "source": [
    "df_teste.head(15)"
   ]
  },
  {
   "cell_type": "markdown",
   "id": "b8d1c616",
   "metadata": {},
   "source": [
    "Procurando nas colunas \"PerGordura\", \"TipoLoja\" e \"TipoProduto\" algum item fora do comum "
   ]
  },
  {
   "cell_type": "code",
   "execution_count": 38,
   "id": "cf72a8b1",
   "metadata": {},
   "outputs": [
    {
     "data": {
      "text/plain": [
       "array(['Baixo', 'Normal', 'baixa gordura', 'baixo', 'normal'],\n",
       "      dtype=object)"
      ]
     },
     "execution_count": 38,
     "metadata": {},
     "output_type": "execute_result"
    }
   ],
   "source": [
    "df_treino.PerGordura.unique()"
   ]
  },
  {
   "cell_type": "code",
   "execution_count": 39,
   "id": "ec6ad736",
   "metadata": {},
   "outputs": [
    {
     "data": {
      "text/plain": [
       "array(['Baixo', 'normal', 'Normal', 'baixo', 'baixa gordura'],\n",
       "      dtype=object)"
      ]
     },
     "execution_count": 39,
     "metadata": {},
     "output_type": "execute_result"
    }
   ],
   "source": [
    "df_teste.PerGordura.unique()"
   ]
  },
  {
   "cell_type": "code",
   "execution_count": 40,
   "id": "2dd52744",
   "metadata": {},
   "outputs": [
    {
     "data": {
      "text/plain": [
       "array(['Atacado', 'Varejo', 'MercadoBairro', 'Premium'], dtype=object)"
      ]
     },
     "execution_count": 40,
     "metadata": {},
     "output_type": "execute_result"
    }
   ],
   "source": [
    "df_treino.TipoLoja.unique()"
   ]
  },
  {
   "cell_type": "code",
   "execution_count": 41,
   "id": "1ec26f64",
   "metadata": {},
   "outputs": [
    {
     "data": {
      "text/plain": [
       "array(['Atacado', 'MercadoBairro', 'Premium', 'Varejo'], dtype=object)"
      ]
     },
     "execution_count": 41,
     "metadata": {},
     "output_type": "execute_result"
    }
   ],
   "source": [
    "df_teste.TipoLoja.unique()"
   ]
  },
  {
   "cell_type": "code",
   "execution_count": 42,
   "id": "36803f64",
   "metadata": {},
   "outputs": [
    {
     "data": {
      "text/plain": [
       "array(['lacteo', 'refrigerante', 'carnes', 'frutas_e_legumes', 'casa',\n",
       "       'panificacao', 'snacks', 'congelada', 'cafe', 'higiene pessoal',\n",
       "       'alcoolicos', 'produtos enlatados', 'paes e bolos', 'cereais',\n",
       "       'outros', 'peixes'], dtype=object)"
      ]
     },
     "execution_count": 42,
     "metadata": {},
     "output_type": "execute_result"
    }
   ],
   "source": [
    "df_treino.TipoProduto.unique()"
   ]
  },
  {
   "cell_type": "code",
   "execution_count": 43,
   "id": "9cff26df",
   "metadata": {},
   "outputs": [
    {
     "data": {
      "text/plain": [
       "array(['snacks', 'lacteo', 'outros', 'frutas_e_legumes', 'panificacao',\n",
       "       'higiene pessoal', 'paes e bolos', 'alcoolicos', 'peixes',\n",
       "       'refrigerante', 'casa', 'congelada', 'carnes',\n",
       "       'produtos enlatados', 'cereais', 'cafe'], dtype=object)"
      ]
     },
     "execution_count": 43,
     "metadata": {},
     "output_type": "execute_result"
    }
   ],
   "source": [
    "df_teste.TipoProduto.unique()"
   ]
  },
  {
   "cell_type": "code",
   "execution_count": 44,
   "id": "42c09039",
   "metadata": {},
   "outputs": [
    {
     "data": {
      "text/plain": [
       "array(['Sudeste', 'Norte', 'Sul'], dtype=object)"
      ]
     },
     "execution_count": 44,
     "metadata": {},
     "output_type": "execute_result"
    }
   ],
   "source": [
    "df_treino.LocalizacaoTipo.unique()"
   ]
  },
  {
   "cell_type": "code",
   "execution_count": 45,
   "id": "3f9a9e2e",
   "metadata": {},
   "outputs": [
    {
     "data": {
      "text/plain": [
       "array(['Sudeste', 'Sul', 'Norte'], dtype=object)"
      ]
     },
     "execution_count": 45,
     "metadata": {},
     "output_type": "execute_result"
    }
   ],
   "source": [
    "df_teste.LocalizacaoTipo.unique()"
   ]
  },
  {
   "cell_type": "markdown",
   "id": "246a3a0d",
   "metadata": {},
   "source": [
    "Encontramos a necessidade de normalizar a coluna \"PerGordura\""
   ]
  },
  {
   "cell_type": "code",
   "execution_count": 46,
   "id": "6e9c2f94",
   "metadata": {},
   "outputs": [],
   "source": [
    "df_treino.PerGordura = df_treino.PerGordura.replace('Baixo', 'baixo'\n",
    "                                                     ).replace('baixa gordura', 'baixo'\n",
    "                                                     ).replace('Normal', 'normal')"
   ]
  },
  {
   "cell_type": "code",
   "execution_count": 47,
   "id": "d9ec2d85",
   "metadata": {},
   "outputs": [],
   "source": [
    "df_teste.PerGordura = df_treino.PerGordura.replace('Baixo', 'baixo'\n",
    "                                                     ).replace('baixa gordura', 'baixo'\n",
    "                                                     ).replace('Normal', 'normal')"
   ]
  },
  {
   "cell_type": "markdown",
   "id": "0cf5cbfb",
   "metadata": {},
   "source": [
    "Realizamos a normalização da coluna \"PerGordura\""
   ]
  },
  {
   "cell_type": "code",
   "execution_count": 48,
   "id": "9d6aa453",
   "metadata": {},
   "outputs": [
    {
     "data": {
      "text/plain": [
       "array(['baixo', 'normal'], dtype=object)"
      ]
     },
     "execution_count": 48,
     "metadata": {},
     "output_type": "execute_result"
    }
   ],
   "source": [
    "df_treino.PerGordura.unique()"
   ]
  },
  {
   "cell_type": "code",
   "execution_count": 49,
   "id": "30b8a146",
   "metadata": {},
   "outputs": [
    {
     "data": {
      "text/plain": [
       "array(['baixo', 'normal'], dtype=object)"
      ]
     },
     "execution_count": 49,
     "metadata": {},
     "output_type": "execute_result"
    }
   ],
   "source": [
    "df_teste.PerGordura.unique()"
   ]
  },
  {
   "cell_type": "markdown",
   "id": "b4b08807",
   "metadata": {},
   "source": [
    "Os dataFrame \"df_treino\" e \"df_teste\" totalmente normalizado:"
   ]
  },
  {
   "cell_type": "code",
   "execution_count": 50,
   "id": "6a7e165b",
   "metadata": {},
   "outputs": [
    {
     "data": {
      "text/html": [
       "<div>\n",
       "<style scoped>\n",
       "    .dataframe tbody tr th:only-of-type {\n",
       "        vertical-align: middle;\n",
       "    }\n",
       "\n",
       "    .dataframe tbody tr th {\n",
       "        vertical-align: top;\n",
       "    }\n",
       "\n",
       "    .dataframe thead th {\n",
       "        text-align: right;\n",
       "    }\n",
       "</style>\n",
       "<table border=\"1\" class=\"dataframe\">\n",
       "  <thead>\n",
       "    <tr style=\"text-align: right;\">\n",
       "      <th></th>\n",
       "      <th>IDProduto</th>\n",
       "      <th>Peso</th>\n",
       "      <th>PerGordura</th>\n",
       "      <th>Visibilidade</th>\n",
       "      <th>TipoProduto</th>\n",
       "      <th>PrecoMax</th>\n",
       "      <th>IDLoja</th>\n",
       "      <th>AnoLoja</th>\n",
       "      <th>TamanhoLoja</th>\n",
       "      <th>LocalizacaoTipo</th>\n",
       "      <th>TipoLoja</th>\n",
       "      <th>Vendas</th>\n",
       "    </tr>\n",
       "  </thead>\n",
       "  <tbody>\n",
       "    <tr>\n",
       "      <th>0</th>\n",
       "      <td>1A</td>\n",
       "      <td>139.500000</td>\n",
       "      <td>baixo</td>\n",
       "      <td>1.604730</td>\n",
       "      <td>lacteo</td>\n",
       "      <td>249.8092</td>\n",
       "      <td>L1</td>\n",
       "      <td>2009</td>\n",
       "      <td>medio_porte</td>\n",
       "      <td>Sudeste</td>\n",
       "      <td>Atacado</td>\n",
       "      <td>5602.7070</td>\n",
       "    </tr>\n",
       "    <tr>\n",
       "      <th>1</th>\n",
       "      <td>2B</td>\n",
       "      <td>88.800000</td>\n",
       "      <td>normal</td>\n",
       "      <td>1.927822</td>\n",
       "      <td>refrigerante</td>\n",
       "      <td>48.2692</td>\n",
       "      <td>L2</td>\n",
       "      <td>2019</td>\n",
       "      <td>medio_porte</td>\n",
       "      <td>Norte</td>\n",
       "      <td>Varejo</td>\n",
       "      <td>665.1342</td>\n",
       "    </tr>\n",
       "    <tr>\n",
       "      <th>2</th>\n",
       "      <td>3C</td>\n",
       "      <td>262.500000</td>\n",
       "      <td>baixo</td>\n",
       "      <td>1.676007</td>\n",
       "      <td>carnes</td>\n",
       "      <td>141.6180</td>\n",
       "      <td>L1</td>\n",
       "      <td>2009</td>\n",
       "      <td>medio_porte</td>\n",
       "      <td>Sudeste</td>\n",
       "      <td>Atacado</td>\n",
       "      <td>3145.9050</td>\n",
       "    </tr>\n",
       "    <tr>\n",
       "      <th>3</th>\n",
       "      <td>4D</td>\n",
       "      <td>288.000000</td>\n",
       "      <td>normal</td>\n",
       "      <td>0.000000</td>\n",
       "      <td>frutas_e_legumes</td>\n",
       "      <td>182.0950</td>\n",
       "      <td>L3</td>\n",
       "      <td>2008</td>\n",
       "      <td>medio_porte</td>\n",
       "      <td>Norte</td>\n",
       "      <td>MercadoBairro</td>\n",
       "      <td>1098.5700</td>\n",
       "    </tr>\n",
       "    <tr>\n",
       "      <th>4</th>\n",
       "      <td>5E</td>\n",
       "      <td>133.950000</td>\n",
       "      <td>baixo</td>\n",
       "      <td>0.000000</td>\n",
       "      <td>casa</td>\n",
       "      <td>53.8614</td>\n",
       "      <td>L4</td>\n",
       "      <td>1997</td>\n",
       "      <td>grande</td>\n",
       "      <td>Norte</td>\n",
       "      <td>Atacado</td>\n",
       "      <td>1492.0578</td>\n",
       "    </tr>\n",
       "    <tr>\n",
       "      <th>5</th>\n",
       "      <td>6F</td>\n",
       "      <td>155.925000</td>\n",
       "      <td>normal</td>\n",
       "      <td>0.000000</td>\n",
       "      <td>panificacao</td>\n",
       "      <td>51.4008</td>\n",
       "      <td>L2</td>\n",
       "      <td>2019</td>\n",
       "      <td>medio_porte</td>\n",
       "      <td>Norte</td>\n",
       "      <td>Varejo</td>\n",
       "      <td>834.9132</td>\n",
       "    </tr>\n",
       "    <tr>\n",
       "      <th>6</th>\n",
       "      <td>7G</td>\n",
       "      <td>204.750000</td>\n",
       "      <td>normal</td>\n",
       "      <td>1.274109</td>\n",
       "      <td>snacks</td>\n",
       "      <td>57.6588</td>\n",
       "      <td>L4</td>\n",
       "      <td>1997</td>\n",
       "      <td>grande</td>\n",
       "      <td>Norte</td>\n",
       "      <td>Atacado</td>\n",
       "      <td>515.3292</td>\n",
       "    </tr>\n",
       "    <tr>\n",
       "      <th>7</th>\n",
       "      <td>8H</td>\n",
       "      <td>194.818193</td>\n",
       "      <td>baixo</td>\n",
       "      <td>12.746986</td>\n",
       "      <td>snacks</td>\n",
       "      <td>107.7622</td>\n",
       "      <td>L5</td>\n",
       "      <td>1995</td>\n",
       "      <td>medio_porte</td>\n",
       "      <td>Norte</td>\n",
       "      <td>Premium</td>\n",
       "      <td>6034.1454</td>\n",
       "    </tr>\n",
       "    <tr>\n",
       "      <th>8</th>\n",
       "      <td>9I</td>\n",
       "      <td>243.000000</td>\n",
       "      <td>normal</td>\n",
       "      <td>1.668711</td>\n",
       "      <td>congelada</td>\n",
       "      <td>96.9726</td>\n",
       "      <td>L6</td>\n",
       "      <td>2012</td>\n",
       "      <td>medio_porte</td>\n",
       "      <td>Sul</td>\n",
       "      <td>Atacado</td>\n",
       "      <td>1614.8979</td>\n",
       "    </tr>\n",
       "    <tr>\n",
       "      <th>9</th>\n",
       "      <td>10J</td>\n",
       "      <td>288.000000</td>\n",
       "      <td>normal</td>\n",
       "      <td>9.444959</td>\n",
       "      <td>congelada</td>\n",
       "      <td>187.8214</td>\n",
       "      <td>L7</td>\n",
       "      <td>2017</td>\n",
       "      <td>medio_porte</td>\n",
       "      <td>Sul</td>\n",
       "      <td>Atacado</td>\n",
       "      <td>7065.8025</td>\n",
       "    </tr>\n",
       "    <tr>\n",
       "      <th>10</th>\n",
       "      <td>11K</td>\n",
       "      <td>177.000000</td>\n",
       "      <td>baixo</td>\n",
       "      <td>0.000000</td>\n",
       "      <td>frutas_e_legumes</td>\n",
       "      <td>45.5402</td>\n",
       "      <td>L1</td>\n",
       "      <td>2009</td>\n",
       "      <td>medio_porte</td>\n",
       "      <td>Sudeste</td>\n",
       "      <td>Atacado</td>\n",
       "      <td>2274.0399</td>\n",
       "    </tr>\n",
       "    <tr>\n",
       "      <th>11</th>\n",
       "      <td>12L</td>\n",
       "      <td>277.500000</td>\n",
       "      <td>normal</td>\n",
       "      <td>4.546377</td>\n",
       "      <td>lacteo</td>\n",
       "      <td>144.1102</td>\n",
       "      <td>L8</td>\n",
       "      <td>2007</td>\n",
       "      <td>pequena</td>\n",
       "      <td>Sudeste</td>\n",
       "      <td>Atacado</td>\n",
       "      <td>3280.7295</td>\n",
       "    </tr>\n",
       "    <tr>\n",
       "      <th>12</th>\n",
       "      <td>13M</td>\n",
       "      <td>226.500000</td>\n",
       "      <td>normal</td>\n",
       "      <td>10.001350</td>\n",
       "      <td>frutas_e_legumes</td>\n",
       "      <td>145.4786</td>\n",
       "      <td>L1</td>\n",
       "      <td>2009</td>\n",
       "      <td>medio_porte</td>\n",
       "      <td>Sudeste</td>\n",
       "      <td>Atacado</td>\n",
       "      <td>2383.8969</td>\n",
       "    </tr>\n",
       "    <tr>\n",
       "      <th>13</th>\n",
       "      <td>14N</td>\n",
       "      <td>264.000000</td>\n",
       "      <td>normal</td>\n",
       "      <td>4.725733</td>\n",
       "      <td>snacks</td>\n",
       "      <td>119.6782</td>\n",
       "      <td>L8</td>\n",
       "      <td>2007</td>\n",
       "      <td>pequena</td>\n",
       "      <td>Sudeste</td>\n",
       "      <td>Atacado</td>\n",
       "      <td>3217.8114</td>\n",
       "    </tr>\n",
       "    <tr>\n",
       "      <th>14</th>\n",
       "      <td>15O</td>\n",
       "      <td>245.250000</td>\n",
       "      <td>baixo</td>\n",
       "      <td>6.802430</td>\n",
       "      <td>frutas_e_legumes</td>\n",
       "      <td>196.4426</td>\n",
       "      <td>L4</td>\n",
       "      <td>1997</td>\n",
       "      <td>grande</td>\n",
       "      <td>Norte</td>\n",
       "      <td>Atacado</td>\n",
       "      <td>2966.1390</td>\n",
       "    </tr>\n",
       "  </tbody>\n",
       "</table>\n",
       "</div>"
      ],
      "text/plain": [
       "   IDProduto        Peso PerGordura  Visibilidade       TipoProduto  PrecoMax  \\\n",
       "0         1A  139.500000      baixo      1.604730            lacteo  249.8092   \n",
       "1         2B   88.800000     normal      1.927822      refrigerante   48.2692   \n",
       "2         3C  262.500000      baixo      1.676007            carnes  141.6180   \n",
       "3         4D  288.000000     normal      0.000000  frutas_e_legumes  182.0950   \n",
       "4         5E  133.950000      baixo      0.000000              casa   53.8614   \n",
       "5         6F  155.925000     normal      0.000000       panificacao   51.4008   \n",
       "6         7G  204.750000     normal      1.274109            snacks   57.6588   \n",
       "7         8H  194.818193      baixo     12.746986            snacks  107.7622   \n",
       "8         9I  243.000000     normal      1.668711         congelada   96.9726   \n",
       "9        10J  288.000000     normal      9.444959         congelada  187.8214   \n",
       "10       11K  177.000000      baixo      0.000000  frutas_e_legumes   45.5402   \n",
       "11       12L  277.500000     normal      4.546377            lacteo  144.1102   \n",
       "12       13M  226.500000     normal     10.001350  frutas_e_legumes  145.4786   \n",
       "13       14N  264.000000     normal      4.725733            snacks  119.6782   \n",
       "14       15O  245.250000      baixo      6.802430  frutas_e_legumes  196.4426   \n",
       "\n",
       "   IDLoja  AnoLoja  TamanhoLoja LocalizacaoTipo       TipoLoja     Vendas  \n",
       "0      L1     2009  medio_porte         Sudeste        Atacado  5602.7070  \n",
       "1      L2     2019  medio_porte           Norte         Varejo   665.1342  \n",
       "2      L1     2009  medio_porte         Sudeste        Atacado  3145.9050  \n",
       "3      L3     2008  medio_porte           Norte  MercadoBairro  1098.5700  \n",
       "4      L4     1997       grande           Norte        Atacado  1492.0578  \n",
       "5      L2     2019  medio_porte           Norte         Varejo   834.9132  \n",
       "6      L4     1997       grande           Norte        Atacado   515.3292  \n",
       "7      L5     1995  medio_porte           Norte        Premium  6034.1454  \n",
       "8      L6     2012  medio_porte             Sul        Atacado  1614.8979  \n",
       "9      L7     2017  medio_porte             Sul        Atacado  7065.8025  \n",
       "10     L1     2009  medio_porte         Sudeste        Atacado  2274.0399  \n",
       "11     L8     2007      pequena         Sudeste        Atacado  3280.7295  \n",
       "12     L1     2009  medio_porte         Sudeste        Atacado  2383.8969  \n",
       "13     L8     2007      pequena         Sudeste        Atacado  3217.8114  \n",
       "14     L4     1997       grande           Norte        Atacado  2966.1390  "
      ]
     },
     "execution_count": 50,
     "metadata": {},
     "output_type": "execute_result"
    }
   ],
   "source": [
    "df_treino.head(15)"
   ]
  },
  {
   "cell_type": "code",
   "execution_count": 51,
   "id": "9a0f2391",
   "metadata": {},
   "outputs": [
    {
     "data": {
      "text/html": [
       "<div>\n",
       "<style scoped>\n",
       "    .dataframe tbody tr th:only-of-type {\n",
       "        vertical-align: middle;\n",
       "    }\n",
       "\n",
       "    .dataframe tbody tr th {\n",
       "        vertical-align: top;\n",
       "    }\n",
       "\n",
       "    .dataframe thead th {\n",
       "        text-align: right;\n",
       "    }\n",
       "</style>\n",
       "<table border=\"1\" class=\"dataframe\">\n",
       "  <thead>\n",
       "    <tr style=\"text-align: right;\">\n",
       "      <th></th>\n",
       "      <th>IDProduto</th>\n",
       "      <th>Peso</th>\n",
       "      <th>PerGordura</th>\n",
       "      <th>Visibilidade</th>\n",
       "      <th>TipoProduto</th>\n",
       "      <th>PrecoMax</th>\n",
       "      <th>IDLoja</th>\n",
       "      <th>AnoLoja</th>\n",
       "      <th>TamanhoLoja</th>\n",
       "      <th>LocalizacaoTipo</th>\n",
       "      <th>TipoLoja</th>\n",
       "    </tr>\n",
       "  </thead>\n",
       "  <tbody>\n",
       "    <tr>\n",
       "      <th>0</th>\n",
       "      <td>1362J</td>\n",
       "      <td>311.250000</td>\n",
       "      <td>baixo</td>\n",
       "      <td>0.756484</td>\n",
       "      <td>snacks</td>\n",
       "      <td>107.8622</td>\n",
       "      <td>L1</td>\n",
       "      <td>2009</td>\n",
       "      <td>medio_porte</td>\n",
       "      <td>Sudeste</td>\n",
       "      <td>Atacado</td>\n",
       "    </tr>\n",
       "    <tr>\n",
       "      <th>1</th>\n",
       "      <td>1537C</td>\n",
       "      <td>124.500000</td>\n",
       "      <td>normal</td>\n",
       "      <td>3.842768</td>\n",
       "      <td>lacteo</td>\n",
       "      <td>87.3198</td>\n",
       "      <td>L7</td>\n",
       "      <td>2017</td>\n",
       "      <td>medio_porte</td>\n",
       "      <td>Sul</td>\n",
       "      <td>Atacado</td>\n",
       "    </tr>\n",
       "    <tr>\n",
       "      <th>2</th>\n",
       "      <td>181Y</td>\n",
       "      <td>219.000000</td>\n",
       "      <td>baixo</td>\n",
       "      <td>9.957491</td>\n",
       "      <td>outros</td>\n",
       "      <td>241.7538</td>\n",
       "      <td>L3</td>\n",
       "      <td>2008</td>\n",
       "      <td>medio_porte</td>\n",
       "      <td>Norte</td>\n",
       "      <td>MercadoBairro</td>\n",
       "    </tr>\n",
       "    <tr>\n",
       "      <th>3</th>\n",
       "      <td>1436F</td>\n",
       "      <td>109.725000</td>\n",
       "      <td>normal</td>\n",
       "      <td>1.538839</td>\n",
       "      <td>snacks</td>\n",
       "      <td>155.0340</td>\n",
       "      <td>L7</td>\n",
       "      <td>2017</td>\n",
       "      <td>medio_porte</td>\n",
       "      <td>Sul</td>\n",
       "      <td>Atacado</td>\n",
       "    </tr>\n",
       "    <tr>\n",
       "      <th>4</th>\n",
       "      <td>236B</td>\n",
       "      <td>194.325600</td>\n",
       "      <td>baixo</td>\n",
       "      <td>11.859931</td>\n",
       "      <td>lacteo</td>\n",
       "      <td>234.2300</td>\n",
       "      <td>L5</td>\n",
       "      <td>1995</td>\n",
       "      <td>medio_porte</td>\n",
       "      <td>Norte</td>\n",
       "      <td>Premium</td>\n",
       "    </tr>\n",
       "    <tr>\n",
       "      <th>5</th>\n",
       "      <td>1465I</td>\n",
       "      <td>147.000000</td>\n",
       "      <td>normal</td>\n",
       "      <td>6.381721</td>\n",
       "      <td>frutas_e_legumes</td>\n",
       "      <td>117.1492</td>\n",
       "      <td>L8</td>\n",
       "      <td>2007</td>\n",
       "      <td>pequena</td>\n",
       "      <td>Sudeste</td>\n",
       "      <td>Atacado</td>\n",
       "    </tr>\n",
       "    <tr>\n",
       "      <th>6</th>\n",
       "      <td>443A</td>\n",
       "      <td>290.250000</td>\n",
       "      <td>normal</td>\n",
       "      <td>8.260154</td>\n",
       "      <td>panificacao</td>\n",
       "      <td>50.1034</td>\n",
       "      <td>L2</td>\n",
       "      <td>2019</td>\n",
       "      <td>medio_porte</td>\n",
       "      <td>Norte</td>\n",
       "      <td>Varejo</td>\n",
       "    </tr>\n",
       "    <tr>\n",
       "      <th>7</th>\n",
       "      <td>1536B</td>\n",
       "      <td>184.086264</td>\n",
       "      <td>baixo</td>\n",
       "      <td>1.578250</td>\n",
       "      <td>panificacao</td>\n",
       "      <td>81.0592</td>\n",
       "      <td>L5</td>\n",
       "      <td>1995</td>\n",
       "      <td>medio_porte</td>\n",
       "      <td>Norte</td>\n",
       "      <td>Premium</td>\n",
       "    </tr>\n",
       "    <tr>\n",
       "      <th>8</th>\n",
       "      <td>86H</td>\n",
       "      <td>94.575000</td>\n",
       "      <td>normal</td>\n",
       "      <td>12.336545</td>\n",
       "      <td>snacks</td>\n",
       "      <td>95.7436</td>\n",
       "      <td>L6</td>\n",
       "      <td>2012</td>\n",
       "      <td>medio_porte</td>\n",
       "      <td>Sul</td>\n",
       "      <td>Atacado</td>\n",
       "    </tr>\n",
       "    <tr>\n",
       "      <th>9</th>\n",
       "      <td>411U</td>\n",
       "      <td>89.775000</td>\n",
       "      <td>normal</td>\n",
       "      <td>0.569843</td>\n",
       "      <td>panificacao</td>\n",
       "      <td>186.8924</td>\n",
       "      <td>L7</td>\n",
       "      <td>2017</td>\n",
       "      <td>medio_porte</td>\n",
       "      <td>Sul</td>\n",
       "      <td>Atacado</td>\n",
       "    </tr>\n",
       "    <tr>\n",
       "      <th>10</th>\n",
       "      <td>420D</td>\n",
       "      <td>249.000000</td>\n",
       "      <td>baixo</td>\n",
       "      <td>10.356908</td>\n",
       "      <td>frutas_e_legumes</td>\n",
       "      <td>118.3466</td>\n",
       "      <td>L7</td>\n",
       "      <td>2017</td>\n",
       "      <td>medio_porte</td>\n",
       "      <td>Sul</td>\n",
       "      <td>Atacado</td>\n",
       "    </tr>\n",
       "    <tr>\n",
       "      <th>11</th>\n",
       "      <td>245K</td>\n",
       "      <td>98.850000</td>\n",
       "      <td>normal</td>\n",
       "      <td>10.581147</td>\n",
       "      <td>frutas_e_legumes</td>\n",
       "      <td>85.3908</td>\n",
       "      <td>L6</td>\n",
       "      <td>2012</td>\n",
       "      <td>medio_porte</td>\n",
       "      <td>Sul</td>\n",
       "      <td>Atacado</td>\n",
       "    </tr>\n",
       "    <tr>\n",
       "      <th>12</th>\n",
       "      <td>1409E</td>\n",
       "      <td>198.253929</td>\n",
       "      <td>normal</td>\n",
       "      <td>17.107921</td>\n",
       "      <td>higiene pessoal</td>\n",
       "      <td>240.4196</td>\n",
       "      <td>L10</td>\n",
       "      <td>1995</td>\n",
       "      <td>pequena</td>\n",
       "      <td>Sudeste</td>\n",
       "      <td>MercadoBairro</td>\n",
       "    </tr>\n",
       "    <tr>\n",
       "      <th>13</th>\n",
       "      <td>551E</td>\n",
       "      <td>71.775000</td>\n",
       "      <td>normal</td>\n",
       "      <td>9.273761</td>\n",
       "      <td>paes e bolos</td>\n",
       "      <td>122.3098</td>\n",
       "      <td>L1</td>\n",
       "      <td>2009</td>\n",
       "      <td>medio_porte</td>\n",
       "      <td>Sudeste</td>\n",
       "      <td>Atacado</td>\n",
       "    </tr>\n",
       "    <tr>\n",
       "      <th>14</th>\n",
       "      <td>1496N</td>\n",
       "      <td>251.250000</td>\n",
       "      <td>baixo</td>\n",
       "      <td>2.120646</td>\n",
       "      <td>alcoolicos</td>\n",
       "      <td>52.0298</td>\n",
       "      <td>L4</td>\n",
       "      <td>1997</td>\n",
       "      <td>grande</td>\n",
       "      <td>Norte</td>\n",
       "      <td>Atacado</td>\n",
       "    </tr>\n",
       "  </tbody>\n",
       "</table>\n",
       "</div>"
      ],
      "text/plain": [
       "   IDProduto        Peso PerGordura  Visibilidade       TipoProduto  PrecoMax  \\\n",
       "0      1362J  311.250000      baixo      0.756484            snacks  107.8622   \n",
       "1      1537C  124.500000     normal      3.842768            lacteo   87.3198   \n",
       "2       181Y  219.000000      baixo      9.957491            outros  241.7538   \n",
       "3      1436F  109.725000     normal      1.538839            snacks  155.0340   \n",
       "4       236B  194.325600      baixo     11.859931            lacteo  234.2300   \n",
       "5      1465I  147.000000     normal      6.381721  frutas_e_legumes  117.1492   \n",
       "6       443A  290.250000     normal      8.260154       panificacao   50.1034   \n",
       "7      1536B  184.086264      baixo      1.578250       panificacao   81.0592   \n",
       "8        86H   94.575000     normal     12.336545            snacks   95.7436   \n",
       "9       411U   89.775000     normal      0.569843       panificacao  186.8924   \n",
       "10      420D  249.000000      baixo     10.356908  frutas_e_legumes  118.3466   \n",
       "11      245K   98.850000     normal     10.581147  frutas_e_legumes   85.3908   \n",
       "12     1409E  198.253929     normal     17.107921   higiene pessoal  240.4196   \n",
       "13      551E   71.775000     normal      9.273761      paes e bolos  122.3098   \n",
       "14     1496N  251.250000      baixo      2.120646        alcoolicos   52.0298   \n",
       "\n",
       "   IDLoja  AnoLoja  TamanhoLoja LocalizacaoTipo       TipoLoja  \n",
       "0      L1     2009  medio_porte         Sudeste        Atacado  \n",
       "1      L7     2017  medio_porte             Sul        Atacado  \n",
       "2      L3     2008  medio_porte           Norte  MercadoBairro  \n",
       "3      L7     2017  medio_porte             Sul        Atacado  \n",
       "4      L5     1995  medio_porte           Norte        Premium  \n",
       "5      L8     2007      pequena         Sudeste        Atacado  \n",
       "6      L2     2019  medio_porte           Norte         Varejo  \n",
       "7      L5     1995  medio_porte           Norte        Premium  \n",
       "8      L6     2012  medio_porte             Sul        Atacado  \n",
       "9      L7     2017  medio_porte             Sul        Atacado  \n",
       "10     L7     2017  medio_porte             Sul        Atacado  \n",
       "11     L6     2012  medio_porte             Sul        Atacado  \n",
       "12    L10     1995      pequena         Sudeste  MercadoBairro  \n",
       "13     L1     2009  medio_porte         Sudeste        Atacado  \n",
       "14     L4     1997       grande           Norte        Atacado  "
      ]
     },
     "execution_count": 51,
     "metadata": {},
     "output_type": "execute_result"
    }
   ],
   "source": [
    "df_teste.head(15)"
   ]
  },
  {
   "cell_type": "code",
   "execution_count": 52,
   "id": "1ffe7b73",
   "metadata": {},
   "outputs": [
    {
     "data": {
      "text/plain": [
       "Text(0.5, 1.0, 'Tipos de produto')"
      ]
     },
     "execution_count": 52,
     "metadata": {},
     "output_type": "execute_result"
    },
    {
     "data": {
      "image/png": "[encoded data removed]",
      "text/plain": [
       "<Figure size 720x864 with 1 Axes>"
      ]
     },
     "metadata": {},
     "output_type": "display_data"
    }
   ],
   "source": [
    "plt.figure(figsize=(10,12))\n",
    "hist = sns.histplot(y =df_treino.TipoProduto)\n",
    "plt.title(\"Tipos de produto\")"
   ]
  },
  {
   "cell_type": "markdown",
   "id": "99bd837d",
   "metadata": {},
   "source": [
    "O gráfico logo acima nos apresenta os itens da coluna \"TipoProduto\" e suas ocorrência."
   ]
  },
  {
   "cell_type": "code",
   "execution_count": 53,
   "id": "bd96481a",
   "metadata": {},
   "outputs": [
    {
     "data": {
      "text/plain": [
       "TipoProduto\n",
       "alcoolicos             214\n",
       "cafe                   110\n",
       "carnes                 425\n",
       "casa                   910\n",
       "cereais                148\n",
       "congelada              856\n",
       "frutas_e_legumes      1232\n",
       "higiene pessoal        520\n",
       "lacteo                 682\n",
       "outros                 169\n",
       "paes e bolos           251\n",
       "panificacao            648\n",
       "peixes                  64\n",
       "produtos enlatados     649\n",
       "refrigerante           445\n",
       "snacks                1200\n",
       "Name: IDProduto, dtype: int64"
      ]
     },
     "execution_count": 53,
     "metadata": {},
     "output_type": "execute_result"
    }
   ],
   "source": [
    "df_treino.groupby(['TipoProduto']).count().IDProduto"
   ]
  },
  {
   "cell_type": "code",
   "execution_count": 54,
   "id": "dbfb8613",
   "metadata": {},
   "outputs": [
    {
     "data": {
      "text/plain": [
       "Text(0.5, 1.0, 'Tipos de LOJAS')"
      ]
     },
     "execution_count": 54,
     "metadata": {},
     "output_type": "execute_result"
    },
    {
     "data": {
      "image/png": "[encoded data removed]",
      "text/plain": [
       "<Figure size 720x720 with 1 Axes>"
      ]
     },
     "metadata": {},
     "output_type": "display_data"
    }
   ],
   "source": [
    "plt.figure(figsize=(10,10))\n",
    "hist = sns.histplot(x =df_treino.TamanhoLoja)\n",
    "plt.title(\"Tipos de LOJAS\")"
   ]
  },
  {
   "cell_type": "markdown",
   "id": "28719986",
   "metadata": {},
   "source": [
    "No gráfico acima, constatamos a quantidade de cada tipo de loja."
   ]
  },
  {
   "cell_type": "code",
   "execution_count": 55,
   "id": "58572fd5",
   "metadata": {},
   "outputs": [
    {
     "data": {
      "text/plain": [
       "Text(0.5, 1.0, 'Vendas dos Itens')"
      ]
     },
     "execution_count": 55,
     "metadata": {},
     "output_type": "execute_result"
    },
    {
     "data": {
      "image/png": "[encoded data removed]",
      "text/plain": [
       "<Figure size 720x360 with 1 Axes>"
      ]
     },
     "metadata": {},
     "output_type": "display_data"
    }
   ],
   "source": [
    "plt.figure(figsize=(10,5))\n",
    "hist = sns.histplot(x =df_treino.Vendas)\n",
    "plt.title('Vendas dos Itens')"
   ]
  },
  {
   "cell_type": "markdown",
   "id": "2b7be614",
   "metadata": {},
   "source": [
    "No gráfico acima, visualizamos uma forma não muito simétrica, pois a quantidade dispara para próximo de 600 e em seguida vem diminuindo."
   ]
  },
  {
   "cell_type": "code",
   "execution_count": 56,
   "id": "3c5ea3c7",
   "metadata": {},
   "outputs": [
    {
     "data": {
      "text/plain": [
       "Text(0.5, 1.0, 'Vendas versus Visibilidade')"
      ]
     },
     "execution_count": 56,
     "metadata": {},
     "output_type": "execute_result"
    },
    {
     "data": {
      "image/png": "[encoded data removed]",
      "text/plain": [
       "<Figure size 720x360 with 1 Axes>"
      ]
     },
     "metadata": {},
     "output_type": "display_data"
    }
   ],
   "source": [
    "plt.figure(figsize=(10,5))\n",
    "sns.scatterplot(x = df_treino.Visibilidade, y = df_treino.Vendas)\n",
    "plt.title('Vendas versus Visibilidade')"
   ]
  },
  {
   "cell_type": "markdown",
   "id": "eb5bf633",
   "metadata": {},
   "source": [
    "Podemos extrair uma informação simples da figura acima, alguns produtos com pouca visibilidade não estão sendo bem vendidos. "
   ]
  },
  {
   "cell_type": "code",
   "execution_count": 57,
   "id": "d71fed78",
   "metadata": {},
   "outputs": [
    {
     "data": {
      "text/plain": [
       "Text(0.5, 1.0, 'Vendas versus Pesos')"
      ]
     },
     "execution_count": 57,
     "metadata": {},
     "output_type": "execute_result"
    },
    {
     "data": {
      "image/png": "[encoded data removed]",
      "text/plain": [
       "<Figure size 720x360 with 1 Axes>"
      ]
     },
     "metadata": {},
     "output_type": "display_data"
    }
   ],
   "source": [
    "plt.figure(figsize=(10,5))\n",
    "sns.scatterplot(x = df_treino.Peso, y = df_treino.Vendas)\n",
    "plt.title('Vendas versus Pesos')"
   ]
  },
  {
   "cell_type": "markdown",
   "id": "c977bfcc",
   "metadata": {},
   "source": [
    "Em relação a figura acima, não conseguimos identificar uma relação/padrão entre as colunas 'Peso' e 'Vendas'."
   ]
  },
  {
   "cell_type": "code",
   "execution_count": 58,
   "id": "474c9b8a",
   "metadata": {},
   "outputs": [
    {
     "data": {
      "text/plain": [
       "Text(0.5, 1.0, 'Vendas versus Visibilidade')"
      ]
     },
     "execution_count": 58,
     "metadata": {},
     "output_type": "execute_result"
    },
    {
     "data": {
      "image/png": "[encoded data removed]",
      "text/plain": [
       "<Figure size 720x360 with 1 Axes>"
      ]
     },
     "metadata": {},
     "output_type": "display_data"
    }
   ],
   "source": [
    "plt.figure(figsize=(10,5))\n",
    "sns.scatterplot(x = df_treino.PrecoMax, y = df_treino.Vendas)\n",
    "plt.title('Vendas versus Visibilidade')"
   ]
  },
  {
   "cell_type": "markdown",
   "id": "afc68336",
   "metadata": {},
   "source": [
    "Acredito que seja a relação de melhor retorno nessa análise. Podemos perceber que quanto maior a categoria de preço, maior a venda."
   ]
  },
  {
   "cell_type": "code",
   "execution_count": 59,
   "id": "4a5d7c56",
   "metadata": {},
   "outputs": [
    {
     "data": {
      "text/plain": [
       "<AxesSubplot:>"
      ]
     },
     "execution_count": 59,
     "metadata": {},
     "output_type": "execute_result"
    },
    {
     "data": {
      "image/png": "[encoded data removed]",
      "text/plain": [
       "<Figure size 648x576 with 2 Axes>"
      ]
     },
     "metadata": {},
     "output_type": "display_data"
    }
   ],
   "source": [
    "plt.figure(figsize=(9,8))\n",
    "sns.heatmap(df_treino.corr(), annot=True ,cmap='coolwarm', vmin = -1, vmax = 1)"
   ]
  },
  {
   "cell_type": "markdown",
   "id": "ac22196a",
   "metadata": {},
   "source": [
    "Mais um gráfico que reforça a nossa tese, as colunas de maior relação são 'PrecoMax' com a coluna 'Vendas'. Temos um retorno de correlação em torno de 0.5."
   ]
  },
  {
   "cell_type": "code",
   "execution_count": 60,
   "id": "a8bdfc8d",
   "metadata": {},
   "outputs": [],
   "source": [
    "mask = np.triu(df_treino.corr())"
   ]
  },
  {
   "cell_type": "code",
   "execution_count": 61,
   "id": "b6060909",
   "metadata": {},
   "outputs": [
    {
     "data": {
      "text/plain": [
       "<AxesSubplot:>"
      ]
     },
     "execution_count": 61,
     "metadata": {},
     "output_type": "execute_result"
    },
    {
     "data": {
      "image/png": "[encoded data removed]",
      "text/plain": [
       "<Figure size 648x576 with 2 Axes>"
      ]
     },
     "metadata": {},
     "output_type": "display_data"
    }
   ],
   "source": [
    "plt.figure(figsize=(9,8))\n",
    "sns.heatmap(df_treino.corr(), annot=True ,cmap='coolwarm', vmin = -1, vmax = 1, mask = mask)"
   ]
  },
  {
   "cell_type": "markdown",
   "id": "04195878",
   "metadata": {},
   "source": [
    "Na Matriz de correlação a parte superior a diagonal é igual a parte inferior, dessa forma poderemos simplificar a visualização."
   ]
  },
  {
   "cell_type": "markdown",
   "id": "a55e4c7f",
   "metadata": {},
   "source": [
    "## Modelagem preditiva"
   ]
  },
  {
   "cell_type": "markdown",
   "id": "828bb67c",
   "metadata": {},
   "source": [
    "#### Criando e ajusando um modelo com o sklearn"
   ]
  },
  {
   "cell_type": "code",
   "execution_count": 62,
   "id": "58294842",
   "metadata": {},
   "outputs": [],
   "source": [
    "from sklearn.linear_model import LinearRegression"
   ]
  },
  {
   "cell_type": "code",
   "execution_count": 63,
   "id": "15ce65ea",
   "metadata": {},
   "outputs": [],
   "source": [
    "modelo = LinearRegression()"
   ]
  },
  {
   "cell_type": "code",
   "execution_count": 64,
   "id": "de40a520",
   "metadata": {},
   "outputs": [
    {
     "data": {
      "text/plain": [
       "LinearRegression()"
      ]
     },
     "execution_count": 64,
     "metadata": {},
     "output_type": "execute_result"
    }
   ],
   "source": [
    "modelo"
   ]
  },
  {
   "cell_type": "code",
   "execution_count": 65,
   "id": "7ff9ce4a",
   "metadata": {},
   "outputs": [],
   "source": [
    "y = df_treino.Vendas"
   ]
  },
  {
   "cell_type": "code",
   "execution_count": 66,
   "id": "4b6bb0bb",
   "metadata": {},
   "outputs": [
    {
     "data": {
      "text/plain": [
       "0       5602.7070\n",
       "1        665.1342\n",
       "2       3145.9050\n",
       "3       1098.5700\n",
       "4       1492.0578\n",
       "          ...    \n",
       "8518    4167.5751\n",
       "8519     823.9275\n",
       "8520    1789.6704\n",
       "8521    2768.3964\n",
       "8522    1148.5050\n",
       "Name: Vendas, Length: 8523, dtype: float64"
      ]
     },
     "execution_count": 66,
     "metadata": {},
     "output_type": "execute_result"
    }
   ],
   "source": [
    "y"
   ]
  },
  {
   "cell_type": "code",
   "execution_count": 67,
   "id": "c2391e1b",
   "metadata": {},
   "outputs": [],
   "source": [
    "x = df_treino.drop(['Vendas', 'IDProduto'], axis = 1)"
   ]
  },
  {
   "cell_type": "code",
   "execution_count": 68,
   "id": "2ea6f096",
   "metadata": {},
   "outputs": [],
   "source": [
    "x = pd.get_dummies(x)"
   ]
  },
  {
   "cell_type": "markdown",
   "id": "8c7e6e0f",
   "metadata": {},
   "source": [
    "Dividimos o dataframe em duas partes, x(dataframe sem Vendas e IDProduto) e y(dataframe só com a coluna de Venda)"
   ]
  },
  {
   "cell_type": "code",
   "execution_count": 69,
   "id": "6a2348a2",
   "metadata": {},
   "outputs": [
    {
     "data": {
      "text/plain": [
       "LinearRegression()"
      ]
     },
     "execution_count": 69,
     "metadata": {},
     "output_type": "execute_result"
    }
   ],
   "source": [
    "modelo.fit(X=x, y=y)"
   ]
  },
  {
   "cell_type": "code",
   "execution_count": 70,
   "id": "5232318a",
   "metadata": {},
   "outputs": [],
   "source": [
    "saida_pred = modelo.predict(x)"
   ]
  },
  {
   "cell_type": "markdown",
   "id": "a3e09f13",
   "metadata": {},
   "source": [
    "Chamando o método 'fit' e passando os dois argumentos. ajustamos o modelo e realizamos predição."
   ]
  },
  {
   "cell_type": "code",
   "execution_count": 71,
   "id": "a4176c02",
   "metadata": {},
   "outputs": [
    {
     "data": {
      "text/plain": [
       "Text(0.5, 0, 'Vendas')"
      ]
     },
     "execution_count": 71,
     "metadata": {},
     "output_type": "execute_result"
    },
    {
     "data": {
      "image/png": "[encoded data removed]",
      "text/plain": [
       "<Figure size 648x576 with 1 Axes>"
      ]
     },
     "metadata": {},
     "output_type": "display_data"
    }
   ],
   "source": [
    "plt.figure(figsize=(9,8))\n",
    "sns.scatterplot(y = y, x = saida_pred)\n",
    "plt.ylabel('Predito')\n",
    "plt.xlabel('Vendas')"
   ]
  },
  {
   "cell_type": "markdown",
   "id": "0fb50332",
   "metadata": {},
   "source": [
    "O gráfico acima, aparenta ser o inverso da figura 'Vendas dos Itens'."
   ]
  },
  {
   "cell_type": "code",
   "execution_count": 72,
   "id": "38cc05cc",
   "metadata": {},
   "outputs": [
    {
     "data": {
      "text/plain": [
       "Text(0.5, 1.0, 'Histograma dos resíduos')"
      ]
     },
     "execution_count": 72,
     "metadata": {},
     "output_type": "execute_result"
    },
    {
     "data": {
      "image/png": "[encoded data removed]",
      "text/plain": [
       "<Figure size 648x576 with 1 Axes>"
      ]
     },
     "metadata": {},
     "output_type": "display_data"
    }
   ],
   "source": [
    "dado = saida_pred-y\n",
    "plt.figure(figsize=(9,8))\n",
    "hist = sns.histplot(dado)\n",
    "plt.title(\"Histograma dos resíduos\")"
   ]
  },
  {
   "cell_type": "markdown",
   "id": "640a11da",
   "metadata": {},
   "source": [
    "O Gráfico de resíduo, onde verificamos a diferença entre os valores preditos e a coluna de venda."
   ]
  },
  {
   "cell_type": "code",
   "execution_count": 73,
   "id": "9e84672e",
   "metadata": {},
   "outputs": [],
   "source": [
    "import statsmodels.api as sm"
   ]
  },
  {
   "cell_type": "code",
   "execution_count": 74,
   "id": "e61b0569",
   "metadata": {},
   "outputs": [
    {
     "name": "stdout",
     "output_type": "stream",
     "text": [
      "Requirement already satisfied: statsmodels in /home/hugoleogs/.virtualenvs/my-env/lib/python3.9/site-packages (0.12.2)\n",
      "Requirement already satisfied: numpy>=1.15 in /home/hugoleogs/.virtualenvs/my-env/lib/python3.9/site-packages (from statsmodels) (1.20.2)\n",
      "Requirement already satisfied: scipy>=1.1 in /home/hugoleogs/.virtualenvs/my-env/lib/python3.9/site-packages (from statsmodels) (1.6.3)\n",
      "Requirement already satisfied: patsy>=0.5 in /home/hugoleogs/.virtualenvs/my-env/lib/python3.9/site-packages (from statsmodels) (0.5.1)\n",
      "Requirement already satisfied: pandas>=0.21 in /home/hugoleogs/.virtualenvs/my-env/lib/python3.9/site-packages (from statsmodels) (1.2.4)\n",
      "Requirement already satisfied: pytz>=2017.3 in /home/hugoleogs/.virtualenvs/my-env/lib/python3.9/site-packages (from pandas>=0.21->statsmodels) (2021.1)\n",
      "Requirement already satisfied: python-dateutil>=2.7.3 in /home/hugoleogs/.virtualenvs/my-env/lib/python3.9/site-packages (from pandas>=0.21->statsmodels) (2.8.1)\n",
      "Requirement already satisfied: six in /home/hugoleogs/.virtualenvs/my-env/lib/python3.9/site-packages (from patsy>=0.5->statsmodels) (1.16.0)\n",
      "\u001b[33mWARNING: You are using pip version 21.2.3; however, version 21.3.1 is available.\n",
      "You should consider upgrading via the '/home/hugoleogs/.virtualenvs/my-env/bin/python -m pip install --upgrade pip' command.\u001b[0m\n"
     ]
    }
   ],
   "source": [
    "!pip install statsmodels"
   ]
  },
  {
   "cell_type": "code",
   "execution_count": 75,
   "id": "c58eb6bc",
   "metadata": {},
   "outputs": [],
   "source": [
    "df_treino['y_pred'] = saida_pred\n",
    "xz = df_treino.drop('IDProduto', axis = 1)\n",
    "xz = pd.get_dummies(xz)"
   ]
  },
  {
   "cell_type": "code",
   "execution_count": 76,
   "id": "267b0a31",
   "metadata": {},
   "outputs": [],
   "source": [
    "features = [x for x in xz.columns if x not in ['Vendas', 'y_pred']]"
   ]
  },
  {
   "cell_type": "code",
   "execution_count": 77,
   "id": "ba0796be",
   "metadata": {},
   "outputs": [],
   "source": [
    "modelo_treino = sm.OLS(df_treino['Vendas'],xz[features]).fit()"
   ]
  },
  {
   "cell_type": "code",
   "execution_count": 78,
   "id": "9f65ae72",
   "metadata": {},
   "outputs": [
    {
     "name": "stdout",
     "output_type": "stream",
     "text": [
      "                            OLS Regression Results                            \n",
      "==============================================================================\n",
      "Dep. Variable:                 Vendas   R-squared:                       0.564\n",
      "Model:                            OLS   Adj. R-squared:                  0.562\n",
      "Method:                 Least Squares   F-statistic:                     378.6\n",
      "Date:                Fri, 29 Oct 2021   Prob (F-statistic):               0.00\n",
      "Time:                        19:32:58   Log-Likelihood:                -75443.\n",
      "No. Observations:                8523   AIC:                         1.509e+05\n",
      "Df Residuals:                    8493   BIC:                         1.512e+05\n",
      "Df Model:                          29                                         \n",
      "Covariance Type:            nonrobust                                         \n",
      "==================================================================================================\n",
      "                                     coef    std err          t      P>|t|      [0.025      0.975]\n",
      "--------------------------------------------------------------------------------------------------\n",
      "Peso                              -0.0371      0.292     -0.127      0.899      -0.609       0.535\n",
      "Visibilidade                      -4.6034      3.731     -1.234      0.217     -11.917       2.710\n",
      "PrecoMax                          23.3412      0.297     78.699      0.000      22.760      23.923\n",
      "AnoLoja                           -0.1422      0.040     -3.552      0.000      -0.221      -0.064\n",
      "PerGordura_baixo                 -28.6406     21.171     -1.353      0.176     -70.140      12.859\n",
      "PerGordura_normal                 32.2775     21.175      1.524      0.127      -9.232      73.787\n",
      "TipoProduto_alcoolicos            -7.9591    112.538     -0.071      0.944    -228.560     212.642\n",
      "TipoProduto_cafe                   0.1162    153.930      0.001      0.999    -301.624     301.856\n",
      "TipoProduto_carnes                -9.5013     81.981     -0.116      0.908    -170.204     151.201\n",
      "TipoProduto_casa                 -67.2247     60.556     -1.110      0.267    -185.929      51.480\n",
      "TipoProduto_cereais               23.1308    133.019      0.174      0.862    -237.619     283.881\n",
      "TipoProduto_congelada            -51.3756     60.432     -0.850      0.395    -169.837      67.086\n",
      "TipoProduto_frutas_e_legumes      37.3184     52.625      0.709      0.478     -65.840     140.477\n",
      "TipoProduto_higiene pessoal      -23.3970     75.795     -0.309      0.758    -171.974     125.180\n",
      "TipoProduto_lacteo               -70.0124     66.238     -1.057      0.291    -199.856      59.831\n",
      "TipoProduto_outros               -40.9485    125.631     -0.326      0.744    -287.215     205.318\n",
      "TipoProduto_paes e bolos          -2.8243    103.656     -0.027      0.978    -206.014     200.366\n",
      "TipoProduto_panificacao           -7.7401     67.965     -0.114      0.909    -140.968     125.488\n",
      "TipoProduto_peixes               269.1207    199.811      1.347      0.178    -122.557     660.798\n",
      "TipoProduto_produtos enlatados    29.7814     67.739      0.440      0.660    -103.003     162.566\n",
      "TipoProduto_refrigerante         -49.9879     80.032     -0.625      0.532    -206.871     106.895\n",
      "TipoProduto_snacks               -24.8596     52.855     -0.470      0.638    -128.468      78.749\n",
      "IDLoja_L1                        254.8844     60.118      4.240      0.000     137.039     372.730\n",
      "IDLoja_L10                      -610.3486     43.524    -14.023      0.000    -695.667    -525.030\n",
      "IDLoja_L2                        -75.0967     25.283     -2.970      0.003    -124.657     -25.536\n",
      "IDLoja_L3                       -979.2987     41.472    -23.613      0.000   -1060.594    -898.003\n",
      "IDLoja_L4                        -40.6802     21.617     -1.882      0.060     -83.054       1.694\n",
      "IDLoja_L5                       1218.3552     25.318     48.122      0.000    1168.726    1267.985\n",
      "IDLoja_L6                       -194.7898     48.440     -4.021      0.000    -289.745     -99.835\n",
      "IDLoja_L7                         69.4765     47.771      1.454      0.146     -24.166     163.119\n",
      "IDLoja_L8                        184.0350     53.237      3.457      0.001      79.678     288.393\n",
      "IDLoja_L9                        177.0998     57.416      3.084      0.002      64.550     289.649\n",
      "TamanhoLoja_grande               -40.6802     21.617     -1.882      0.060     -83.054       1.694\n",
      "TamanhoLoja_medio_porte           59.3434     34.614      1.714      0.086      -8.508     127.195\n",
      "TamanhoLoja_pequena              -15.0263     41.424     -0.363      0.717     -96.227      66.174\n",
      "LocalizacaoTipo_Norte            123.2797     24.996      4.932      0.000      74.282     172.277\n",
      "LocalizacaoTipo_Sudeste         -171.4292     23.295     -7.359      0.000    -217.093    -125.765\n",
      "LocalizacaoTipo_Sul               51.7864     19.929      2.599      0.009      12.722      90.851\n",
      "TipoLoja_Atacado                 450.0257     21.610     20.825      0.000     407.665     492.386\n",
      "TipoLoja_MercadoBairro         -1589.6473     32.068    -49.571      0.000   -1652.509   -1526.785\n",
      "TipoLoja_Premium                1218.3552     25.318     48.122      0.000    1168.726    1267.985\n",
      "TipoLoja_Varejo                  -75.0967     25.283     -2.970      0.003    -124.657     -25.536\n",
      "==============================================================================\n",
      "Omnibus:                      966.031   Durbin-Watson:                   2.003\n",
      "Prob(Omnibus):                  0.000   Jarque-Bera (JB):             2314.308\n",
      "Skew:                           0.669   Prob(JB):                         0.00\n",
      "Kurtosis:                       5.174   Cond. No.                     1.06e+16\n",
      "==============================================================================\n",
      "\n",
      "Notes:\n",
      "[1] Standard Errors assume that the covariance matrix of the errors is correctly specified.\n",
      "[2] The smallest eigenvalue is 3.11e-22. This might indicate that there are\n",
      "strong multicollinearity problems or that the design matrix is singular.\n"
     ]
    }
   ],
   "source": [
    "print(modelo_treino.summary())"
   ]
  },
  {
   "cell_type": "markdown",
   "id": "d1ea5e9c",
   "metadata": {},
   "source": [
    "Chamando o método summary, verificamos que algumas colunas não fariam diferença no resultado final. O R-squared: 0.564, possui o melhor resultado até agora."
   ]
  },
  {
   "cell_type": "code",
   "execution_count": 79,
   "id": "5c7feb3f",
   "metadata": {},
   "outputs": [
    {
     "data": {
      "text/html": [
       "<div>\n",
       "<style scoped>\n",
       "    .dataframe tbody tr th:only-of-type {\n",
       "        vertical-align: middle;\n",
       "    }\n",
       "\n",
       "    .dataframe tbody tr th {\n",
       "        vertical-align: top;\n",
       "    }\n",
       "\n",
       "    .dataframe thead th {\n",
       "        text-align: right;\n",
       "    }\n",
       "</style>\n",
       "<table border=\"1\" class=\"dataframe\">\n",
       "  <thead>\n",
       "    <tr style=\"text-align: right;\">\n",
       "      <th></th>\n",
       "      <th>IDProduto</th>\n",
       "      <th>Peso</th>\n",
       "      <th>PerGordura</th>\n",
       "      <th>Visibilidade</th>\n",
       "      <th>TipoProduto</th>\n",
       "      <th>PrecoMax</th>\n",
       "      <th>IDLoja</th>\n",
       "      <th>AnoLoja</th>\n",
       "      <th>TamanhoLoja</th>\n",
       "      <th>LocalizacaoTipo</th>\n",
       "      <th>TipoLoja</th>\n",
       "      <th>Vendas</th>\n",
       "      <th>y_pred</th>\n",
       "    </tr>\n",
       "  </thead>\n",
       "  <tbody>\n",
       "    <tr>\n",
       "      <th>0</th>\n",
       "      <td>1A</td>\n",
       "      <td>139.500</td>\n",
       "      <td>baixo</td>\n",
       "      <td>1.604730</td>\n",
       "      <td>lacteo</td>\n",
       "      <td>249.8092</td>\n",
       "      <td>L1</td>\n",
       "      <td>2009</td>\n",
       "      <td>medio_porte</td>\n",
       "      <td>Sudeste</td>\n",
       "      <td>Atacado</td>\n",
       "      <td>5602.7070</td>\n",
       "      <td>6026.733907</td>\n",
       "    </tr>\n",
       "    <tr>\n",
       "      <th>1</th>\n",
       "      <td>2B</td>\n",
       "      <td>88.800</td>\n",
       "      <td>normal</td>\n",
       "      <td>1.927822</td>\n",
       "      <td>refrigerante</td>\n",
       "      <td>48.2692</td>\n",
       "      <td>L2</td>\n",
       "      <td>2019</td>\n",
       "      <td>medio_porte</td>\n",
       "      <td>Norte</td>\n",
       "      <td>Varejo</td>\n",
       "      <td>665.1342</td>\n",
       "      <td>842.072718</td>\n",
       "    </tr>\n",
       "    <tr>\n",
       "      <th>2</th>\n",
       "      <td>3C</td>\n",
       "      <td>262.500</td>\n",
       "      <td>baixo</td>\n",
       "      <td>1.676007</td>\n",
       "      <td>carnes</td>\n",
       "      <td>141.6180</td>\n",
       "      <td>L1</td>\n",
       "      <td>2009</td>\n",
       "      <td>medio_porte</td>\n",
       "      <td>Sudeste</td>\n",
       "      <td>Atacado</td>\n",
       "      <td>3145.9050</td>\n",
       "      <td>3557.047873</td>\n",
       "    </tr>\n",
       "    <tr>\n",
       "      <th>3</th>\n",
       "      <td>4D</td>\n",
       "      <td>288.000</td>\n",
       "      <td>normal</td>\n",
       "      <td>0.000000</td>\n",
       "      <td>frutas_e_legumes</td>\n",
       "      <td>182.0950</td>\n",
       "      <td>L3</td>\n",
       "      <td>2008</td>\n",
       "      <td>medio_porte</td>\n",
       "      <td>Norte</td>\n",
       "      <td>MercadoBairro</td>\n",
       "      <td>1098.5700</td>\n",
       "      <td>1637.331216</td>\n",
       "    </tr>\n",
       "    <tr>\n",
       "      <th>4</th>\n",
       "      <td>5E</td>\n",
       "      <td>133.950</td>\n",
       "      <td>baixo</td>\n",
       "      <td>0.000000</td>\n",
       "      <td>casa</td>\n",
       "      <td>53.8614</td>\n",
       "      <td>L4</td>\n",
       "      <td>1997</td>\n",
       "      <td>grande</td>\n",
       "      <td>Norte</td>\n",
       "      <td>Atacado</td>\n",
       "      <td>1492.0578</td>\n",
       "      <td>1364.291053</td>\n",
       "    </tr>\n",
       "    <tr>\n",
       "      <th>...</th>\n",
       "      <td>...</td>\n",
       "      <td>...</td>\n",
       "      <td>...</td>\n",
       "      <td>...</td>\n",
       "      <td>...</td>\n",
       "      <td>...</td>\n",
       "      <td>...</td>\n",
       "      <td>...</td>\n",
       "      <td>...</td>\n",
       "      <td>...</td>\n",
       "      <td>...</td>\n",
       "      <td>...</td>\n",
       "      <td>...</td>\n",
       "    </tr>\n",
       "    <tr>\n",
       "      <th>8518</th>\n",
       "      <td>360V</td>\n",
       "      <td>102.975</td>\n",
       "      <td>baixo</td>\n",
       "      <td>5.678339</td>\n",
       "      <td>snacks</td>\n",
       "      <td>214.5218</td>\n",
       "      <td>L4</td>\n",
       "      <td>1997</td>\n",
       "      <td>grande</td>\n",
       "      <td>Norte</td>\n",
       "      <td>Atacado</td>\n",
       "      <td>4167.5751</td>\n",
       "      <td>5131.666395</td>\n",
       "    </tr>\n",
       "    <tr>\n",
       "      <th>8519</th>\n",
       "      <td>1538D</td>\n",
       "      <td>125.700</td>\n",
       "      <td>normal</td>\n",
       "      <td>4.698243</td>\n",
       "      <td>panificacao</td>\n",
       "      <td>108.1570</td>\n",
       "      <td>L6</td>\n",
       "      <td>2012</td>\n",
       "      <td>pequena</td>\n",
       "      <td>Sul</td>\n",
       "      <td>Atacado</td>\n",
       "      <td>823.9275</td>\n",
       "      <td>2528.612240</td>\n",
       "    </tr>\n",
       "    <tr>\n",
       "      <th>8520</th>\n",
       "      <td>355Q</td>\n",
       "      <td>159.000</td>\n",
       "      <td>baixo</td>\n",
       "      <td>3.518627</td>\n",
       "      <td>higiene pessoal</td>\n",
       "      <td>85.1224</td>\n",
       "      <td>L9</td>\n",
       "      <td>2014</td>\n",
       "      <td>pequena</td>\n",
       "      <td>Sul</td>\n",
       "      <td>Atacado</td>\n",
       "      <td>1789.6704</td>\n",
       "      <td>2290.183650</td>\n",
       "    </tr>\n",
       "    <tr>\n",
       "      <th>8521</th>\n",
       "      <td>909Y</td>\n",
       "      <td>108.150</td>\n",
       "      <td>normal</td>\n",
       "      <td>14.522065</td>\n",
       "      <td>snacks</td>\n",
       "      <td>103.1332</td>\n",
       "      <td>L2</td>\n",
       "      <td>2019</td>\n",
       "      <td>medio_porte</td>\n",
       "      <td>Norte</td>\n",
       "      <td>Varejo</td>\n",
       "      <td>2768.3964</td>\n",
       "      <td>2089.097313</td>\n",
       "    </tr>\n",
       "    <tr>\n",
       "      <th>8522</th>\n",
       "      <td>463U</td>\n",
       "      <td>222.000</td>\n",
       "      <td>baixo</td>\n",
       "      <td>4.487828</td>\n",
       "      <td>refrigerante</td>\n",
       "      <td>75.4670</td>\n",
       "      <td>L8</td>\n",
       "      <td>2007</td>\n",
       "      <td>pequena</td>\n",
       "      <td>Sudeste</td>\n",
       "      <td>Atacado</td>\n",
       "      <td>1148.5050</td>\n",
       "      <td>1816.142408</td>\n",
       "    </tr>\n",
       "  </tbody>\n",
       "</table>\n",
       "<p>8523 rows × 13 columns</p>\n",
       "</div>"
      ],
      "text/plain": [
       "     IDProduto     Peso PerGordura  Visibilidade       TipoProduto  PrecoMax  \\\n",
       "0           1A  139.500      baixo      1.604730            lacteo  249.8092   \n",
       "1           2B   88.800     normal      1.927822      refrigerante   48.2692   \n",
       "2           3C  262.500      baixo      1.676007            carnes  141.6180   \n",
       "3           4D  288.000     normal      0.000000  frutas_e_legumes  182.0950   \n",
       "4           5E  133.950      baixo      0.000000              casa   53.8614   \n",
       "...        ...      ...        ...           ...               ...       ...   \n",
       "8518      360V  102.975      baixo      5.678339            snacks  214.5218   \n",
       "8519     1538D  125.700     normal      4.698243       panificacao  108.1570   \n",
       "8520      355Q  159.000      baixo      3.518627   higiene pessoal   85.1224   \n",
       "8521      909Y  108.150     normal     14.522065            snacks  103.1332   \n",
       "8522      463U  222.000      baixo      4.487828      refrigerante   75.4670   \n",
       "\n",
       "     IDLoja  AnoLoja  TamanhoLoja LocalizacaoTipo       TipoLoja     Vendas  \\\n",
       "0        L1     2009  medio_porte         Sudeste        Atacado  5602.7070   \n",
       "1        L2     2019  medio_porte           Norte         Varejo   665.1342   \n",
       "2        L1     2009  medio_porte         Sudeste        Atacado  3145.9050   \n",
       "3        L3     2008  medio_porte           Norte  MercadoBairro  1098.5700   \n",
       "4        L4     1997       grande           Norte        Atacado  1492.0578   \n",
       "...     ...      ...          ...             ...            ...        ...   \n",
       "8518     L4     1997       grande           Norte        Atacado  4167.5751   \n",
       "8519     L6     2012      pequena             Sul        Atacado   823.9275   \n",
       "8520     L9     2014      pequena             Sul        Atacado  1789.6704   \n",
       "8521     L2     2019  medio_porte           Norte         Varejo  2768.3964   \n",
       "8522     L8     2007      pequena         Sudeste        Atacado  1148.5050   \n",
       "\n",
       "           y_pred  \n",
       "0     6026.733907  \n",
       "1      842.072718  \n",
       "2     3557.047873  \n",
       "3     1637.331216  \n",
       "4     1364.291053  \n",
       "...           ...  \n",
       "8518  5131.666395  \n",
       "8519  2528.612240  \n",
       "8520  2290.183650  \n",
       "8521  2089.097313  \n",
       "8522  1816.142408  \n",
       "\n",
       "[8523 rows x 13 columns]"
      ]
     },
     "execution_count": 79,
     "metadata": {},
     "output_type": "execute_result"
    }
   ],
   "source": [
    "df_treino"
   ]
  },
  {
   "cell_type": "code",
   "execution_count": 80,
   "id": "2585b660",
   "metadata": {},
   "outputs": [],
   "source": [
    "y_treino = df_treino['Vendas']\n",
    "df_treino.drop(['IDProduto', 'IDLoja', 'TipoProduto', 'y_pred', 'Vendas'], axis = 1, inplace = True)"
   ]
  },
  {
   "cell_type": "markdown",
   "id": "25a44763",
   "metadata": {},
   "source": [
    "Criamos y_treino só com a coluna de 'Vendas'."
   ]
  },
  {
   "cell_type": "code",
   "execution_count": 81,
   "id": "1c48feb1",
   "metadata": {},
   "outputs": [],
   "source": [
    "df_treino\n",
    "x_treino = pd.get_dummies(df_treino)"
   ]
  },
  {
   "cell_type": "markdown",
   "id": "cddafdb0",
   "metadata": {},
   "source": [
    "Deletamos algumas colunas para criar o x_treino."
   ]
  },
  {
   "cell_type": "code",
   "execution_count": 82,
   "id": "62cab257",
   "metadata": {},
   "outputs": [
    {
     "data": {
      "text/html": [
       "<div>\n",
       "<style scoped>\n",
       "    .dataframe tbody tr th:only-of-type {\n",
       "        vertical-align: middle;\n",
       "    }\n",
       "\n",
       "    .dataframe tbody tr th {\n",
       "        vertical-align: top;\n",
       "    }\n",
       "\n",
       "    .dataframe thead th {\n",
       "        text-align: right;\n",
       "    }\n",
       "</style>\n",
       "<table border=\"1\" class=\"dataframe\">\n",
       "  <thead>\n",
       "    <tr style=\"text-align: right;\">\n",
       "      <th></th>\n",
       "      <th>Peso</th>\n",
       "      <th>Visibilidade</th>\n",
       "      <th>PrecoMax</th>\n",
       "      <th>AnoLoja</th>\n",
       "      <th>PerGordura_baixo</th>\n",
       "      <th>PerGordura_normal</th>\n",
       "      <th>TamanhoLoja_grande</th>\n",
       "      <th>TamanhoLoja_medio_porte</th>\n",
       "      <th>TamanhoLoja_pequena</th>\n",
       "      <th>LocalizacaoTipo_Norte</th>\n",
       "      <th>LocalizacaoTipo_Sudeste</th>\n",
       "      <th>LocalizacaoTipo_Sul</th>\n",
       "      <th>TipoLoja_Atacado</th>\n",
       "      <th>TipoLoja_MercadoBairro</th>\n",
       "      <th>TipoLoja_Premium</th>\n",
       "      <th>TipoLoja_Varejo</th>\n",
       "    </tr>\n",
       "  </thead>\n",
       "  <tbody>\n",
       "    <tr>\n",
       "      <th>0</th>\n",
       "      <td>139.500</td>\n",
       "      <td>1.604730</td>\n",
       "      <td>249.8092</td>\n",
       "      <td>2009</td>\n",
       "      <td>1</td>\n",
       "      <td>0</td>\n",
       "      <td>0</td>\n",
       "      <td>1</td>\n",
       "      <td>0</td>\n",
       "      <td>0</td>\n",
       "      <td>1</td>\n",
       "      <td>0</td>\n",
       "      <td>1</td>\n",
       "      <td>0</td>\n",
       "      <td>0</td>\n",
       "      <td>0</td>\n",
       "    </tr>\n",
       "    <tr>\n",
       "      <th>1</th>\n",
       "      <td>88.800</td>\n",
       "      <td>1.927822</td>\n",
       "      <td>48.2692</td>\n",
       "      <td>2019</td>\n",
       "      <td>0</td>\n",
       "      <td>1</td>\n",
       "      <td>0</td>\n",
       "      <td>1</td>\n",
       "      <td>0</td>\n",
       "      <td>1</td>\n",
       "      <td>0</td>\n",
       "      <td>0</td>\n",
       "      <td>0</td>\n",
       "      <td>0</td>\n",
       "      <td>0</td>\n",
       "      <td>1</td>\n",
       "    </tr>\n",
       "    <tr>\n",
       "      <th>2</th>\n",
       "      <td>262.500</td>\n",
       "      <td>1.676007</td>\n",
       "      <td>141.6180</td>\n",
       "      <td>2009</td>\n",
       "      <td>1</td>\n",
       "      <td>0</td>\n",
       "      <td>0</td>\n",
       "      <td>1</td>\n",
       "      <td>0</td>\n",
       "      <td>0</td>\n",
       "      <td>1</td>\n",
       "      <td>0</td>\n",
       "      <td>1</td>\n",
       "      <td>0</td>\n",
       "      <td>0</td>\n",
       "      <td>0</td>\n",
       "    </tr>\n",
       "    <tr>\n",
       "      <th>3</th>\n",
       "      <td>288.000</td>\n",
       "      <td>0.000000</td>\n",
       "      <td>182.0950</td>\n",
       "      <td>2008</td>\n",
       "      <td>0</td>\n",
       "      <td>1</td>\n",
       "      <td>0</td>\n",
       "      <td>1</td>\n",
       "      <td>0</td>\n",
       "      <td>1</td>\n",
       "      <td>0</td>\n",
       "      <td>0</td>\n",
       "      <td>0</td>\n",
       "      <td>1</td>\n",
       "      <td>0</td>\n",
       "      <td>0</td>\n",
       "    </tr>\n",
       "    <tr>\n",
       "      <th>4</th>\n",
       "      <td>133.950</td>\n",
       "      <td>0.000000</td>\n",
       "      <td>53.8614</td>\n",
       "      <td>1997</td>\n",
       "      <td>1</td>\n",
       "      <td>0</td>\n",
       "      <td>1</td>\n",
       "      <td>0</td>\n",
       "      <td>0</td>\n",
       "      <td>1</td>\n",
       "      <td>0</td>\n",
       "      <td>0</td>\n",
       "      <td>1</td>\n",
       "      <td>0</td>\n",
       "      <td>0</td>\n",
       "      <td>0</td>\n",
       "    </tr>\n",
       "    <tr>\n",
       "      <th>...</th>\n",
       "      <td>...</td>\n",
       "      <td>...</td>\n",
       "      <td>...</td>\n",
       "      <td>...</td>\n",
       "      <td>...</td>\n",
       "      <td>...</td>\n",
       "      <td>...</td>\n",
       "      <td>...</td>\n",
       "      <td>...</td>\n",
       "      <td>...</td>\n",
       "      <td>...</td>\n",
       "      <td>...</td>\n",
       "      <td>...</td>\n",
       "      <td>...</td>\n",
       "      <td>...</td>\n",
       "      <td>...</td>\n",
       "    </tr>\n",
       "    <tr>\n",
       "      <th>8518</th>\n",
       "      <td>102.975</td>\n",
       "      <td>5.678339</td>\n",
       "      <td>214.5218</td>\n",
       "      <td>1997</td>\n",
       "      <td>1</td>\n",
       "      <td>0</td>\n",
       "      <td>1</td>\n",
       "      <td>0</td>\n",
       "      <td>0</td>\n",
       "      <td>1</td>\n",
       "      <td>0</td>\n",
       "      <td>0</td>\n",
       "      <td>1</td>\n",
       "      <td>0</td>\n",
       "      <td>0</td>\n",
       "      <td>0</td>\n",
       "    </tr>\n",
       "    <tr>\n",
       "      <th>8519</th>\n",
       "      <td>125.700</td>\n",
       "      <td>4.698243</td>\n",
       "      <td>108.1570</td>\n",
       "      <td>2012</td>\n",
       "      <td>0</td>\n",
       "      <td>1</td>\n",
       "      <td>0</td>\n",
       "      <td>0</td>\n",
       "      <td>1</td>\n",
       "      <td>0</td>\n",
       "      <td>0</td>\n",
       "      <td>1</td>\n",
       "      <td>1</td>\n",
       "      <td>0</td>\n",
       "      <td>0</td>\n",
       "      <td>0</td>\n",
       "    </tr>\n",
       "    <tr>\n",
       "      <th>8520</th>\n",
       "      <td>159.000</td>\n",
       "      <td>3.518627</td>\n",
       "      <td>85.1224</td>\n",
       "      <td>2014</td>\n",
       "      <td>1</td>\n",
       "      <td>0</td>\n",
       "      <td>0</td>\n",
       "      <td>0</td>\n",
       "      <td>1</td>\n",
       "      <td>0</td>\n",
       "      <td>0</td>\n",
       "      <td>1</td>\n",
       "      <td>1</td>\n",
       "      <td>0</td>\n",
       "      <td>0</td>\n",
       "      <td>0</td>\n",
       "    </tr>\n",
       "    <tr>\n",
       "      <th>8521</th>\n",
       "      <td>108.150</td>\n",
       "      <td>14.522065</td>\n",
       "      <td>103.1332</td>\n",
       "      <td>2019</td>\n",
       "      <td>0</td>\n",
       "      <td>1</td>\n",
       "      <td>0</td>\n",
       "      <td>1</td>\n",
       "      <td>0</td>\n",
       "      <td>1</td>\n",
       "      <td>0</td>\n",
       "      <td>0</td>\n",
       "      <td>0</td>\n",
       "      <td>0</td>\n",
       "      <td>0</td>\n",
       "      <td>1</td>\n",
       "    </tr>\n",
       "    <tr>\n",
       "      <th>8522</th>\n",
       "      <td>222.000</td>\n",
       "      <td>4.487828</td>\n",
       "      <td>75.4670</td>\n",
       "      <td>2007</td>\n",
       "      <td>1</td>\n",
       "      <td>0</td>\n",
       "      <td>0</td>\n",
       "      <td>0</td>\n",
       "      <td>1</td>\n",
       "      <td>0</td>\n",
       "      <td>1</td>\n",
       "      <td>0</td>\n",
       "      <td>1</td>\n",
       "      <td>0</td>\n",
       "      <td>0</td>\n",
       "      <td>0</td>\n",
       "    </tr>\n",
       "  </tbody>\n",
       "</table>\n",
       "<p>8523 rows × 16 columns</p>\n",
       "</div>"
      ],
      "text/plain": [
       "         Peso  Visibilidade  PrecoMax  AnoLoja  PerGordura_baixo  \\\n",
       "0     139.500      1.604730  249.8092     2009                 1   \n",
       "1      88.800      1.927822   48.2692     2019                 0   \n",
       "2     262.500      1.676007  141.6180     2009                 1   \n",
       "3     288.000      0.000000  182.0950     2008                 0   \n",
       "4     133.950      0.000000   53.8614     1997                 1   \n",
       "...       ...           ...       ...      ...               ...   \n",
       "8518  102.975      5.678339  214.5218     1997                 1   \n",
       "8519  125.700      4.698243  108.1570     2012                 0   \n",
       "8520  159.000      3.518627   85.1224     2014                 1   \n",
       "8521  108.150     14.522065  103.1332     2019                 0   \n",
       "8522  222.000      4.487828   75.4670     2007                 1   \n",
       "\n",
       "      PerGordura_normal  TamanhoLoja_grande  TamanhoLoja_medio_porte  \\\n",
       "0                     0                   0                        1   \n",
       "1                     1                   0                        1   \n",
       "2                     0                   0                        1   \n",
       "3                     1                   0                        1   \n",
       "4                     0                   1                        0   \n",
       "...                 ...                 ...                      ...   \n",
       "8518                  0                   1                        0   \n",
       "8519                  1                   0                        0   \n",
       "8520                  0                   0                        0   \n",
       "8521                  1                   0                        1   \n",
       "8522                  0                   0                        0   \n",
       "\n",
       "      TamanhoLoja_pequena  LocalizacaoTipo_Norte  LocalizacaoTipo_Sudeste  \\\n",
       "0                       0                      0                        1   \n",
       "1                       0                      1                        0   \n",
       "2                       0                      0                        1   \n",
       "3                       0                      1                        0   \n",
       "4                       0                      1                        0   \n",
       "...                   ...                    ...                      ...   \n",
       "8518                    0                      1                        0   \n",
       "8519                    1                      0                        0   \n",
       "8520                    1                      0                        0   \n",
       "8521                    0                      1                        0   \n",
       "8522                    1                      0                        1   \n",
       "\n",
       "      LocalizacaoTipo_Sul  TipoLoja_Atacado  TipoLoja_MercadoBairro  \\\n",
       "0                       0                 1                       0   \n",
       "1                       0                 0                       0   \n",
       "2                       0                 1                       0   \n",
       "3                       0                 0                       1   \n",
       "4                       0                 1                       0   \n",
       "...                   ...               ...                     ...   \n",
       "8518                    0                 1                       0   \n",
       "8519                    1                 1                       0   \n",
       "8520                    1                 1                       0   \n",
       "8521                    0                 0                       0   \n",
       "8522                    0                 1                       0   \n",
       "\n",
       "      TipoLoja_Premium  TipoLoja_Varejo  \n",
       "0                    0                0  \n",
       "1                    0                1  \n",
       "2                    0                0  \n",
       "3                    0                0  \n",
       "4                    0                0  \n",
       "...                ...              ...  \n",
       "8518                 0                0  \n",
       "8519                 0                0  \n",
       "8520                 0                0  \n",
       "8521                 0                1  \n",
       "8522                 0                0  \n",
       "\n",
       "[8523 rows x 16 columns]"
      ]
     },
     "execution_count": 82,
     "metadata": {},
     "output_type": "execute_result"
    }
   ],
   "source": [
    "x_treino"
   ]
  },
  {
   "cell_type": "code",
   "execution_count": 83,
   "id": "fc08807a",
   "metadata": {},
   "outputs": [
    {
     "data": {
      "text/plain": [
       "0       5602.7070\n",
       "1        665.1342\n",
       "2       3145.9050\n",
       "3       1098.5700\n",
       "4       1492.0578\n",
       "          ...    \n",
       "8518    4167.5751\n",
       "8519     823.9275\n",
       "8520    1789.6704\n",
       "8521    2768.3964\n",
       "8522    1148.5050\n",
       "Name: Vendas, Length: 8523, dtype: float64"
      ]
     },
     "execution_count": 83,
     "metadata": {},
     "output_type": "execute_result"
    }
   ],
   "source": [
    "y_treino"
   ]
  },
  {
   "cell_type": "code",
   "execution_count": 84,
   "id": "d44d5ed4",
   "metadata": {},
   "outputs": [
    {
     "data": {
      "text/html": [
       "<div>\n",
       "<style scoped>\n",
       "    .dataframe tbody tr th:only-of-type {\n",
       "        vertical-align: middle;\n",
       "    }\n",
       "\n",
       "    .dataframe tbody tr th {\n",
       "        vertical-align: top;\n",
       "    }\n",
       "\n",
       "    .dataframe thead th {\n",
       "        text-align: right;\n",
       "    }\n",
       "</style>\n",
       "<table border=\"1\" class=\"dataframe\">\n",
       "  <thead>\n",
       "    <tr style=\"text-align: right;\">\n",
       "      <th></th>\n",
       "      <th>Peso</th>\n",
       "      <th>Visibilidade</th>\n",
       "      <th>PrecoMax</th>\n",
       "      <th>AnoLoja</th>\n",
       "      <th>PerGordura_baixo</th>\n",
       "      <th>PerGordura_normal</th>\n",
       "      <th>TamanhoLoja_grande</th>\n",
       "      <th>TamanhoLoja_medio_porte</th>\n",
       "      <th>TamanhoLoja_pequena</th>\n",
       "      <th>LocalizacaoTipo_Norte</th>\n",
       "      <th>LocalizacaoTipo_Sudeste</th>\n",
       "      <th>LocalizacaoTipo_Sul</th>\n",
       "      <th>TipoLoja_Atacado</th>\n",
       "      <th>TipoLoja_MercadoBairro</th>\n",
       "      <th>TipoLoja_Premium</th>\n",
       "      <th>TipoLoja_Varejo</th>\n",
       "    </tr>\n",
       "  </thead>\n",
       "  <tbody>\n",
       "    <tr>\n",
       "      <th>0</th>\n",
       "      <td>311.2500</td>\n",
       "      <td>0.756484</td>\n",
       "      <td>107.8622</td>\n",
       "      <td>2009</td>\n",
       "      <td>1</td>\n",
       "      <td>0</td>\n",
       "      <td>0</td>\n",
       "      <td>1</td>\n",
       "      <td>0</td>\n",
       "      <td>0</td>\n",
       "      <td>1</td>\n",
       "      <td>0</td>\n",
       "      <td>1</td>\n",
       "      <td>0</td>\n",
       "      <td>0</td>\n",
       "      <td>0</td>\n",
       "    </tr>\n",
       "    <tr>\n",
       "      <th>1</th>\n",
       "      <td>124.5000</td>\n",
       "      <td>3.842768</td>\n",
       "      <td>87.3198</td>\n",
       "      <td>2017</td>\n",
       "      <td>0</td>\n",
       "      <td>1</td>\n",
       "      <td>0</td>\n",
       "      <td>1</td>\n",
       "      <td>0</td>\n",
       "      <td>0</td>\n",
       "      <td>0</td>\n",
       "      <td>1</td>\n",
       "      <td>1</td>\n",
       "      <td>0</td>\n",
       "      <td>0</td>\n",
       "      <td>0</td>\n",
       "    </tr>\n",
       "    <tr>\n",
       "      <th>2</th>\n",
       "      <td>219.0000</td>\n",
       "      <td>9.957491</td>\n",
       "      <td>241.7538</td>\n",
       "      <td>2008</td>\n",
       "      <td>1</td>\n",
       "      <td>0</td>\n",
       "      <td>0</td>\n",
       "      <td>1</td>\n",
       "      <td>0</td>\n",
       "      <td>1</td>\n",
       "      <td>0</td>\n",
       "      <td>0</td>\n",
       "      <td>0</td>\n",
       "      <td>1</td>\n",
       "      <td>0</td>\n",
       "      <td>0</td>\n",
       "    </tr>\n",
       "    <tr>\n",
       "      <th>3</th>\n",
       "      <td>109.7250</td>\n",
       "      <td>1.538839</td>\n",
       "      <td>155.0340</td>\n",
       "      <td>2017</td>\n",
       "      <td>0</td>\n",
       "      <td>1</td>\n",
       "      <td>0</td>\n",
       "      <td>1</td>\n",
       "      <td>0</td>\n",
       "      <td>0</td>\n",
       "      <td>0</td>\n",
       "      <td>1</td>\n",
       "      <td>1</td>\n",
       "      <td>0</td>\n",
       "      <td>0</td>\n",
       "      <td>0</td>\n",
       "    </tr>\n",
       "    <tr>\n",
       "      <th>4</th>\n",
       "      <td>194.3256</td>\n",
       "      <td>11.859931</td>\n",
       "      <td>234.2300</td>\n",
       "      <td>1995</td>\n",
       "      <td>1</td>\n",
       "      <td>0</td>\n",
       "      <td>0</td>\n",
       "      <td>1</td>\n",
       "      <td>0</td>\n",
       "      <td>1</td>\n",
       "      <td>0</td>\n",
       "      <td>0</td>\n",
       "      <td>0</td>\n",
       "      <td>0</td>\n",
       "      <td>1</td>\n",
       "      <td>0</td>\n",
       "    </tr>\n",
       "    <tr>\n",
       "      <th>...</th>\n",
       "      <td>...</td>\n",
       "      <td>...</td>\n",
       "      <td>...</td>\n",
       "      <td>...</td>\n",
       "      <td>...</td>\n",
       "      <td>...</td>\n",
       "      <td>...</td>\n",
       "      <td>...</td>\n",
       "      <td>...</td>\n",
       "      <td>...</td>\n",
       "      <td>...</td>\n",
       "      <td>...</td>\n",
       "      <td>...</td>\n",
       "      <td>...</td>\n",
       "      <td>...</td>\n",
       "      <td>...</td>\n",
       "    </tr>\n",
       "    <tr>\n",
       "      <th>5676</th>\n",
       "      <td>157.5000</td>\n",
       "      <td>1.349647</td>\n",
       "      <td>141.3154</td>\n",
       "      <td>2007</td>\n",
       "      <td>1</td>\n",
       "      <td>0</td>\n",
       "      <td>0</td>\n",
       "      <td>0</td>\n",
       "      <td>1</td>\n",
       "      <td>0</td>\n",
       "      <td>1</td>\n",
       "      <td>0</td>\n",
       "      <td>1</td>\n",
       "      <td>0</td>\n",
       "      <td>0</td>\n",
       "      <td>0</td>\n",
       "    </tr>\n",
       "    <tr>\n",
       "      <th>5677</th>\n",
       "      <td>114.0000</td>\n",
       "      <td>14.299090</td>\n",
       "      <td>169.1448</td>\n",
       "      <td>2019</td>\n",
       "      <td>1</td>\n",
       "      <td>0</td>\n",
       "      <td>0</td>\n",
       "      <td>1</td>\n",
       "      <td>0</td>\n",
       "      <td>1</td>\n",
       "      <td>0</td>\n",
       "      <td>0</td>\n",
       "      <td>0</td>\n",
       "      <td>0</td>\n",
       "      <td>0</td>\n",
       "      <td>1</td>\n",
       "    </tr>\n",
       "    <tr>\n",
       "      <th>5678</th>\n",
       "      <td>150.0000</td>\n",
       "      <td>7.352856</td>\n",
       "      <td>118.7440</td>\n",
       "      <td>2012</td>\n",
       "      <td>0</td>\n",
       "      <td>1</td>\n",
       "      <td>0</td>\n",
       "      <td>0</td>\n",
       "      <td>1</td>\n",
       "      <td>0</td>\n",
       "      <td>0</td>\n",
       "      <td>1</td>\n",
       "      <td>1</td>\n",
       "      <td>0</td>\n",
       "      <td>0</td>\n",
       "      <td>0</td>\n",
       "    </tr>\n",
       "    <tr>\n",
       "      <th>5679</th>\n",
       "      <td>229.5000</td>\n",
       "      <td>0.000000</td>\n",
       "      <td>214.6218</td>\n",
       "      <td>2017</td>\n",
       "      <td>1</td>\n",
       "      <td>0</td>\n",
       "      <td>0</td>\n",
       "      <td>0</td>\n",
       "      <td>1</td>\n",
       "      <td>0</td>\n",
       "      <td>0</td>\n",
       "      <td>1</td>\n",
       "      <td>1</td>\n",
       "      <td>0</td>\n",
       "      <td>0</td>\n",
       "      <td>0</td>\n",
       "    </tr>\n",
       "    <tr>\n",
       "      <th>5680</th>\n",
       "      <td>142.5000</td>\n",
       "      <td>10.472015</td>\n",
       "      <td>79.7960</td>\n",
       "      <td>2012</td>\n",
       "      <td>0</td>\n",
       "      <td>1</td>\n",
       "      <td>0</td>\n",
       "      <td>0</td>\n",
       "      <td>1</td>\n",
       "      <td>0</td>\n",
       "      <td>0</td>\n",
       "      <td>1</td>\n",
       "      <td>1</td>\n",
       "      <td>0</td>\n",
       "      <td>0</td>\n",
       "      <td>0</td>\n",
       "    </tr>\n",
       "  </tbody>\n",
       "</table>\n",
       "<p>5681 rows × 16 columns</p>\n",
       "</div>"
      ],
      "text/plain": [
       "          Peso  Visibilidade  PrecoMax  AnoLoja  PerGordura_baixo  \\\n",
       "0     311.2500      0.756484  107.8622     2009                 1   \n",
       "1     124.5000      3.842768   87.3198     2017                 0   \n",
       "2     219.0000      9.957491  241.7538     2008                 1   \n",
       "3     109.7250      1.538839  155.0340     2017                 0   \n",
       "4     194.3256     11.859931  234.2300     1995                 1   \n",
       "...        ...           ...       ...      ...               ...   \n",
       "5676  157.5000      1.349647  141.3154     2007                 1   \n",
       "5677  114.0000     14.299090  169.1448     2019                 1   \n",
       "5678  150.0000      7.352856  118.7440     2012                 0   \n",
       "5679  229.5000      0.000000  214.6218     2017                 1   \n",
       "5680  142.5000     10.472015   79.7960     2012                 0   \n",
       "\n",
       "      PerGordura_normal  TamanhoLoja_grande  TamanhoLoja_medio_porte  \\\n",
       "0                     0                   0                        1   \n",
       "1                     1                   0                        1   \n",
       "2                     0                   0                        1   \n",
       "3                     1                   0                        1   \n",
       "4                     0                   0                        1   \n",
       "...                 ...                 ...                      ...   \n",
       "5676                  0                   0                        0   \n",
       "5677                  0                   0                        1   \n",
       "5678                  1                   0                        0   \n",
       "5679                  0                   0                        0   \n",
       "5680                  1                   0                        0   \n",
       "\n",
       "      TamanhoLoja_pequena  LocalizacaoTipo_Norte  LocalizacaoTipo_Sudeste  \\\n",
       "0                       0                      0                        1   \n",
       "1                       0                      0                        0   \n",
       "2                       0                      1                        0   \n",
       "3                       0                      0                        0   \n",
       "4                       0                      1                        0   \n",
       "...                   ...                    ...                      ...   \n",
       "5676                    1                      0                        1   \n",
       "5677                    0                      1                        0   \n",
       "5678                    1                      0                        0   \n",
       "5679                    1                      0                        0   \n",
       "5680                    1                      0                        0   \n",
       "\n",
       "      LocalizacaoTipo_Sul  TipoLoja_Atacado  TipoLoja_MercadoBairro  \\\n",
       "0                       0                 1                       0   \n",
       "1                       1                 1                       0   \n",
       "2                       0                 0                       1   \n",
       "3                       1                 1                       0   \n",
       "4                       0                 0                       0   \n",
       "...                   ...               ...                     ...   \n",
       "5676                    0                 1                       0   \n",
       "5677                    0                 0                       0   \n",
       "5678                    1                 1                       0   \n",
       "5679                    1                 1                       0   \n",
       "5680                    1                 1                       0   \n",
       "\n",
       "      TipoLoja_Premium  TipoLoja_Varejo  \n",
       "0                    0                0  \n",
       "1                    0                0  \n",
       "2                    0                0  \n",
       "3                    0                0  \n",
       "4                    1                0  \n",
       "...                ...              ...  \n",
       "5676                 0                0  \n",
       "5677                 0                1  \n",
       "5678                 0                0  \n",
       "5679                 0                0  \n",
       "5680                 0                0  \n",
       "\n",
       "[5681 rows x 16 columns]"
      ]
     },
     "execution_count": 84,
     "metadata": {},
     "output_type": "execute_result"
    }
   ],
   "source": [
    "df_teste.drop(['IDProduto', 'IDLoja', 'TipoProduto'], axis = 1, inplace = True)\n",
    "x_teste = pd.get_dummies(df_teste)\n",
    "x_teste"
   ]
  },
  {
   "cell_type": "markdown",
   "id": "3ffb677f",
   "metadata": {},
   "source": [
    "E por último, criamos x_teste  removendo as seguintes colunas 'IDProduto', 'IDLoja' e 'TipoProduto'"
   ]
  },
  {
   "cell_type": "code",
   "execution_count": 85,
   "id": "04f70b32",
   "metadata": {},
   "outputs": [
    {
     "data": {
      "text/plain": [
       "LinearRegression()"
      ]
     },
     "execution_count": 85,
     "metadata": {},
     "output_type": "execute_result"
    }
   ],
   "source": [
    "modelo_2 = LinearRegression()\n",
    "modelo_2.fit(x_treino, y_treino)"
   ]
  },
  {
   "cell_type": "code",
   "execution_count": 86,
   "id": "e8729779",
   "metadata": {},
   "outputs": [],
   "source": [
    "modelo_2_pred = modelo_2.predict(x_teste)"
   ]
  },
  {
   "cell_type": "markdown",
   "id": "7b32c103",
   "metadata": {},
   "source": [
    "Novamente chamamos o método fit e predict para encontrar a acurácia."
   ]
  },
  {
   "cell_type": "code",
   "execution_count": 87,
   "id": "9c1caf11",
   "metadata": {},
   "outputs": [
    {
     "data": {
      "text/plain": [
       "array([2721.80986884, 2415.70498778, 2831.05150218, ..., 2899.70621556,\n",
       "       5347.16254397, 1977.00918625])"
      ]
     },
     "execution_count": 87,
     "metadata": {},
     "output_type": "execute_result"
    }
   ],
   "source": [
    "modelo_2_pred"
   ]
  },
  {
   "cell_type": "code",
   "execution_count": 88,
   "id": "f393af75",
   "metadata": {},
   "outputs": [
    {
     "data": {
      "text/plain": [
       "56"
      ]
     },
     "execution_count": 88,
     "metadata": {},
     "output_type": "execute_result"
    }
   ],
   "source": [
    "modelo_acuracia = round(modelo_2.score(x_treino, y_treino)*100)\n",
    "modelo_acuracia"
   ]
  },
  {
   "cell_type": "markdown",
   "id": "bf2f4e73",
   "metadata": {},
   "source": [
    "E por fim, chegamos a uma acurácia de 56%"
   ]
  },
  {
   "cell_type": "markdown",
   "id": "d0ee492d",
   "metadata": {},
   "source": [
    "# Conclusão"
   ]
  },
  {
   "cell_type": "markdown",
   "id": "0fff7a01",
   "metadata": {},
   "source": [
    "Na modelagem dos dados do dataframe df_treino e df_teste, podemos refinar a normalização dos valores ausentes. Já na modelagem preditiva esse relatório obteve uma acurácia próximo dos 56%, que é muito baixo, dessa forma podemos procurar outro modelo preditivo para melhorar o nosso resultado."
   ]
  },
  {
   "cell_type": "markdown",
   "id": "518d1008",
   "metadata": {},
   "source": [
    "Conseguimos extrair da nossa análise as seguintes observações:\n",
    "\n",
    "* O Sacolão precisa ter um pouco mais de atenção nos itens com pouca visualização, para melhorar as vendas desses produtos.\n",
    "\n",
    "* O Sacolão poderia dar maior ênfase nos produtos mais caros, porque são os mais vendidos. Um Exemplo seria colocar esses produtos em lugares mais expostos e com maior visibilidade."
   ]
  }
 ],
 "metadata": {
  "kernelspec": {
   "display_name": "Python 3",
   "language": "python",
   "name": "python3"
  },
  "language_info": {
   "codemirror_mode": {
    "name": "ipython",
    "version": 3
   },
   "file_extension": ".py",
   "mimetype": "text/x-python",
   "name": "python",
   "nbconvert_exporter": "python",
   "pygments_lexer": "ipython3",
   "version": "3.9.7"
  }
 },
 "nbformat": 4,
 "nbformat_minor": 5
}
